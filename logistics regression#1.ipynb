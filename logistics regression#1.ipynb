{
 "cells": [
  {
   "cell_type": "code",
   "execution_count": null,
   "metadata": {
    "colab": {
     "base_uri": "https://localhost:8080/"
    },
    "id": "C8NNKHiHSEHM",
    "outputId": "313a0614-39ac-4c61-e30f-29fd606db321"
   },
   "outputs": [
    {
     "name": "stdout",
     "output_type": "stream",
     "text": [
      "Mounted at /content/gdrive\n"
     ]
    }
   ],
   "source": [
    "from google.colab import drive\n",
    "\n",
    "drive.mount('/content/gdrive')"
   ]
  },
  {
   "cell_type": "markdown",
   "metadata": {
    "id": "8in0nMptIDoi"
   },
   "source": [
    "NamtaDB is a bengali handwritten digits datasets.It has 72045 training images from 0-৯\n",
    "\n",
    "<div align=\"center\">\n",
    "<img src=\"https://drive.google.com/uc?id=1qVt1tN-t5OV_NUPqpJVFukfqhwTSkUDS\" width=\"400\">\n",
    "</div>\n",
    "\n",
    "<div align=\"center\">\n",
    "<img src=\"https://drive.google.com/uc?id=1UqsCvnpHznZKQcqKq4QK66myS9MU2LD2\" width=\"200\">\n",
    "</div>"
   ]
  },
  {
   "cell_type": "markdown",
   "metadata": {
    "id": "Tzury9vlVLOY"
   },
   "source": [
    "#Preprocess\n",
    "Namta db has 5 different folders with training images.2 of the folder has different dimension image than the rest.Those images were resized to match the rest.Then all the images were copied into one folder.The five different csv files were also merged into one"
   ]
  },
  {
   "cell_type": "code",
   "execution_count": null,
   "metadata": {
    "id": "Dw5ZIR0Cu8Fr"
   },
   "outputs": [],
   "source": [
    "import os\n",
    "from os import path\n",
    "import shutil\n",
    "import numpy as np\n",
    "import pandas as pd\n",
    "import torch\n",
    "import torch.nn as nn\n",
    "import torch.nn.functional as F\n",
    "import torch.optim as optim\n",
    "from torch.utils.data import Dataset\n",
    "from torch.utils.data.sampler import SubsetRandomSampler\n",
    "from torchvision import datasets, transforms, models\n",
    "import matplotlib\n",
    "import matplotlib.pyplot as plt\n",
    "from PIL import Image"
   ]
  },
  {
   "cell_type": "code",
   "execution_count": null,
   "metadata": {
    "id": "YOArSSRMu_2z"
   },
   "outputs": [],
   "source": [
    "PATH = '/content/gdrive/MyDrive/Namta/'\n",
    "os.listdir(PATH)"
   ]
  },
  {
   "cell_type": "code",
   "execution_count": null,
   "metadata": {
    "id": "g9jbwpVjvLYk"
   },
   "outputs": [],
   "source": [
    "def showRawTrainingSamples(csv_filename):\n",
    "  df = pd.read_csv(PATH + csv_filename)\n",
    "  print(csv_filename)\n",
    "  print(df.columns)\n",
    "  return df"
   ]
  },
  {
   "cell_type": "code",
   "execution_count": null,
   "metadata": {
    "colab": {
     "base_uri": "https://localhost:8080/"
    },
    "id": "DkCIAGulvOaN",
    "outputId": "1da5b299-b0da-476e-836a-c246248014ae"
   },
   "outputs": [
    {
     "name": "stdout",
     "output_type": "stream",
     "text": [
      "training-a.csv\n",
      "Index(['filename', 'original filename', 'scanid', 'digit',\n",
      "       'database name original', 'contributing team', 'database name'],\n",
      "      dtype='object')\n",
      "training-b.csv\n",
      "Index(['filename', 'original filename', 'scanid', 'digit',\n",
      "       'database name original', 'contributing team', 'database name'],\n",
      "      dtype='object')\n",
      "training-c.csv\n",
      "Index(['filename', 'original filename', 'scanid', 'digit',\n",
      "       'database name original', 'contributing team', 'database name'],\n",
      "      dtype='object')\n",
      "training-d.csv\n",
      "Index(['original filename', 'scanid', 'digit', 'num', 'database name original',\n",
      "       'database name', 'filename'],\n",
      "      dtype='object')\n",
      "training-e.csv\n",
      "Index(['filename', 'original filename', 'districtid', 'institutionid',\n",
      "       'gender', 'age', 'datestamp', 'scanid', 'digit',\n",
      "       'database name original', 'database name'],\n",
      "      dtype='object')\n"
     ]
    }
   ],
   "source": [
    "a_csv = showRawTrainingSamples('training-a.csv')\n",
    "b_csv = showRawTrainingSamples('training-b.csv')\n",
    "c_csv = showRawTrainingSamples('training-c.csv')\n",
    "d_csv = showRawTrainingSamples('training-d.csv')\n",
    "e_csv = showRawTrainingSamples('training-e.csv')"
   ]
  },
  {
   "cell_type": "code",
   "execution_count": null,
   "metadata": {
    "id": "D7LkLZ9rvhr4"
   },
   "outputs": [],
   "source": [
    "def dropColumns(csv_file):\n",
    "  csv_file = csv_file[['filename', 'digit']]\n",
    "  print(csv_file)\n",
    "  print(csv_file.iloc[:5, :])   #First 5 Rows of the CSV File\n",
    "  print(\"=============================\")\n",
    "  return csv_file"
   ]
  },
  {
   "cell_type": "code",
   "execution_count": null,
   "metadata": {
    "colab": {
     "base_uri": "https://localhost:8080/"
    },
    "id": "qeWkCAktvqIZ",
    "outputId": "405fbe77-8021-41f8-cc4f-449661f7cad6"
   },
   "outputs": [
    {
     "name": "stdout",
     "output_type": "stream",
     "text": [
      "         filename  digit\n",
      "0      a00000.png      5\n",
      "1      a00001.png      3\n",
      "2      a00002.png      1\n",
      "3      a00003.png      7\n",
      "4      a00004.png      0\n",
      "...           ...    ...\n",
      "19697  a19697.png      4\n",
      "19698  a19698.png      3\n",
      "19699  a19699.png      8\n",
      "19700  a19700.png      3\n",
      "19701  a19701.png      8\n",
      "\n",
      "[19702 rows x 2 columns]\n",
      "     filename  digit\n",
      "0  a00000.png      5\n",
      "1  a00001.png      3\n",
      "2  a00002.png      1\n",
      "3  a00003.png      7\n",
      "4  a00004.png      0\n",
      "=============================\n",
      "       filename  digit\n",
      "0    b00000.png      0\n",
      "1    b00001.png      2\n",
      "2    b00002.png      5\n",
      "3    b00003.png      2\n",
      "4    b00004.png      5\n",
      "..          ...    ...\n",
      "354  b00354.png      5\n",
      "355  b00355.png      9\n",
      "356  b00356.png      2\n",
      "357  b00357.png      1\n",
      "358  b00358.png      2\n",
      "\n",
      "[359 rows x 2 columns]\n",
      "     filename  digit\n",
      "0  b00000.png      0\n",
      "1  b00001.png      2\n",
      "2  b00002.png      5\n",
      "3  b00003.png      2\n",
      "4  b00004.png      5\n",
      "=============================\n",
      "         filename  digit\n",
      "0      c00000.png      6\n",
      "1      c00001.png      1\n",
      "2      c00002.png      3\n",
      "3      c00003.png      2\n",
      "4      c00004.png      7\n",
      "...           ...    ...\n",
      "24293  c24293.png      3\n",
      "24294  c24294.png      2\n",
      "24295  c24295.png      7\n",
      "24296  c24296.png      2\n",
      "24297  c24297.png      7\n",
      "\n",
      "[24298 rows x 2 columns]\n",
      "     filename  digit\n",
      "0  c00000.png      6\n",
      "1  c00001.png      1\n",
      "2  c00002.png      3\n",
      "3  c00003.png      2\n",
      "4  c00004.png      7\n",
      "=============================\n",
      "         filename  digit\n",
      "0      d00000.png      1\n",
      "1      d00001.png      1\n",
      "2      d00002.png      5\n",
      "3      d00003.png      7\n",
      "4      d00004.png      0\n",
      "...           ...    ...\n",
      "10903  d10903.png      8\n",
      "10904  d10904.png      6\n",
      "10905  d10905.png      1\n",
      "10906  d10906.png      6\n",
      "10907  d10907.png      1\n",
      "\n",
      "[10908 rows x 2 columns]\n",
      "     filename  digit\n",
      "0  d00000.png      1\n",
      "1  d00001.png      1\n",
      "2  d00002.png      5\n",
      "3  d00003.png      7\n",
      "4  d00004.png      0\n",
      "=============================\n",
      "         filename  digit\n",
      "0      e00000.png      9\n",
      "1      e00001.png      9\n",
      "2      e00002.png      0\n",
      "3      e00003.png      4\n",
      "4      e00004.png      5\n",
      "...           ...    ...\n",
      "16773  e16773.png      2\n",
      "16774  e16774.png      6\n",
      "16775  e16775.png      5\n",
      "16776  e16776.png      4\n",
      "16777  e16777.png      4\n",
      "\n",
      "[16778 rows x 2 columns]\n",
      "     filename  digit\n",
      "0  e00000.png      9\n",
      "1  e00001.png      9\n",
      "2  e00002.png      0\n",
      "3  e00003.png      4\n",
      "4  e00004.png      5\n",
      "=============================\n"
     ]
    }
   ],
   "source": [
    "a_csv = dropColumns(a_csv)\n",
    "b_csv = dropColumns(b_csv)\n",
    "c_csv = dropColumns(c_csv)\n",
    "d_csv = dropColumns(d_csv)\n",
    "e_csv = dropColumns(e_csv)"
   ]
  },
  {
   "cell_type": "code",
   "execution_count": null,
   "metadata": {
    "colab": {
     "base_uri": "https://localhost:8080/"
    },
    "id": "jjTsi9T9vr4C",
    "outputId": "8775f174-8c1f-4959-ba74-a5274a2ee0f9"
   },
   "outputs": [
    {
     "name": "stdout",
     "output_type": "stream",
     "text": [
      "72045\n"
     ]
    }
   ],
   "source": [
    "total_csv = [a_csv, b_csv,c_csv, d_csv,e_csv]\n",
    "\n",
    "merged_csv = pd.concat(total_csv)\n",
    "print(len(merged_csv))"
   ]
  },
  {
   "cell_type": "code",
   "execution_count": null,
   "metadata": {
    "id": "OKJkYg5xv3TV"
   },
   "outputs": [],
   "source": [
    "TRAIN_PATH = '/content/gdrive/MyDrive/Namta/train'\n",
    "#os.mkdir(TRAIN_PATH)"
   ]
  },
  {
   "cell_type": "code",
   "execution_count": null,
   "metadata": {
    "id": "TMpVjYtSv-sc"
   },
   "outputs": [],
   "source": [
    "def processImages(folder_name):\n",
    "  src = PATH + folder_name + '/'\n",
    "  dir_folders = os.listdir(src)\n",
    "  for dir_name in dir_folders:\n",
    "    file_name = os.path.join(src, dir_name)\n",
    "    if os.path.isfile(file_name):\n",
    "      shutil.copy(file_name, TRAIN_PATH)"
   ]
  },
  {
   "cell_type": "code",
   "execution_count": null,
   "metadata": {
    "colab": {
     "base_uri": "https://localhost:8080/"
    },
    "id": "sOl-7COiw1hi",
    "outputId": "2ecfded4-85ba-4c78-99b4-f6e02bb54213"
   },
   "outputs": [
    {
     "name": "stdout",
     "output_type": "stream",
     "text": [
      "A Done\n",
      "B Done\n",
      "C Done\n",
      "D Done\n",
      "E Done\n"
     ]
    }
   ],
   "source": [
    "processImages('training-a')\n",
    "print('A Done')\n",
    "processImages('training-b')\n",
    "print('B Done')\n",
    "processImages('training-c')\n",
    "print('C Done')\n",
    "processImages('training-d')\n",
    "print('D Done')\n",
    "processImages('training-e')\n",
    "print('E Done')"
   ]
  },
  {
   "cell_type": "code",
   "execution_count": null,
   "metadata": {
    "id": "OEJBzHcAf5ly"
   },
   "outputs": [],
   "source": [
    "class Dataset(Dataset):\n",
    "    def __init__(self, df, root, transform=None):\n",
    "        self.data = df\n",
    "        self.root = root\n",
    "        self.transform = transform\n",
    "        \n",
    "    def __len__(self):\n",
    "        return len(self.data)\n",
    "    \n",
    "    def __getitem__(self, index):\n",
    "        item = self.data.iloc[index]\n",
    "        \n",
    "        path = self.root + \"/\" + item[0]\n",
    "        image = Image.open(path).convert('L')\n",
    "        label = item[1]\n",
    "        \n",
    "        if self.transform is not None:\n",
    "            image = self.transform(image)\n",
    "            \n",
    "        return image, label"
   ]
  },
  {
   "cell_type": "code",
   "execution_count": null,
   "metadata": {
    "colab": {
     "base_uri": "https://localhost:8080/"
    },
    "id": "y09FmSkSg5GS",
    "outputId": "5025dfd7-231f-49cf-be49-7fe914c242fe"
   },
   "outputs": [
    {
     "name": "stdout",
     "output_type": "stream",
     "text": [
      "Trainig Samples:  72045\n"
     ]
    }
   ],
   "source": [
    "mean = [0.5,]\n",
    "std = [0.5, ]\n",
    "\n",
    "train_transform = transforms.Compose([\n",
    "    transforms.Resize(28),\n",
    "    transforms.ToTensor(),\n",
    "    transforms.Normalize(mean, std)\n",
    "])\n",
    "\n",
    "test_transform = transforms.Compose([\n",
    "        transforms.Resize(28),\n",
    "        transforms.ToTensor(),\n",
    "        transforms.Normalize(mean, std)\n",
    "])\n",
    "\n",
    "train_data  = Dataset(merged_csv, TRAIN_PATH, train_transform)\n",
    "test_data = Dataset(merged_csv, TRAIN_PATH, test_transform)\n",
    "\n",
    "print(\"Trainig Samples: \",len(train_data))"
   ]
  },
  {
   "cell_type": "markdown",
   "metadata": {
    "id": "b5Ic-FmKOlNR"
   },
   "source": [
    "- **Input dimension:**\n",
    "  - Size of image: $28 \\times 28 = 784$\n",
    "\n",
    "- **Output dimension: 10**\n",
    "  - ০ ,১ ,২ ,৩ ,৪ , ৫ ,৬ ,৭ ,৮ ,৯ "
   ]
  },
  {
   "cell_type": "markdown",
   "metadata": {
    "id": "kA8XUcKKVtDa"
   },
   "source": [
    "#Hyperparameter settings 1"
   ]
  },
  {
   "cell_type": "code",
   "execution_count": null,
   "metadata": {
    "id": "6a2rb03ahCRR"
   },
   "outputs": [],
   "source": [
    "#hyperparameter settings 1\n",
    "batch_size = 300\n",
    "num_iters = 5000\n",
    "input_dim = 28*28 # num_features = 784\n",
    "output_dim = 10\n",
    "\n",
    "learning_rate = 0.0001\n",
    "\n",
    "# Device\n",
    "device = torch.device(\"cuda:0\" if torch.cuda.is_available() else \"cpu\")"
   ]
  },
  {
   "cell_type": "markdown",
   "metadata": {
    "id": "6qCersfpV5Zs"
   },
   "source": [
    "#Hyperparameter settings 2"
   ]
  },
  {
   "cell_type": "code",
   "execution_count": null,
   "metadata": {
    "id": "rS4j8-qT2YHC"
   },
   "outputs": [],
   "source": [
    "#hyperparameter settings 2\n",
    "batch_size = 200\n",
    "num_iters = 4000\n",
    "input_dim = 28*28 # num_features = 784\n",
    "output_dim = 10\n",
    "\n",
    "learning_rate = 0.0003\n",
    "\n",
    "# Device\n",
    "device = torch.device(\"cuda:0\" if torch.cuda.is_available() else \"cpu\")"
   ]
  },
  {
   "cell_type": "markdown",
   "metadata": {
    "id": "QqnsFHsOV7P0"
   },
   "source": [
    "#Hyperparameter settings 3"
   ]
  },
  {
   "cell_type": "code",
   "execution_count": null,
   "metadata": {
    "id": "2iw9kRgMC5FG"
   },
   "outputs": [],
   "source": [
    "#hyperparameter settings 3\n",
    "batch_size =400\n",
    "num_iters = 3000\n",
    "input_dim = 28*28 # num_features = 784\n",
    "output_dim = 10\n",
    "\n",
    "learning_rate = 0.0006\n",
    "\n",
    "# Device\n",
    "device = torch.device(\"cuda:0\" if torch.cuda.is_available() else \"cpu\")"
   ]
  },
  {
   "cell_type": "markdown",
   "metadata": {
    "id": "kuAmVIFfWEJF"
   },
   "source": [
    "#Hyperparameter settings 4"
   ]
  },
  {
   "cell_type": "code",
   "execution_count": null,
   "metadata": {
    "id": "6_12S1Qlgy0u"
   },
   "outputs": [],
   "source": [
    "#hyperparameter settings 4\n",
    "batch_size = 300\n",
    "num_iters = 4000\n",
    "input_dim = 28*28 # num_features = 784\n",
    "output_dim = 10\n",
    "\n",
    "learning_rate = 0.0003\n",
    "\n",
    "# Device\n",
    "device = torch.device(\"cuda:0\" if torch.cuda.is_available() else \"cpu\")"
   ]
  },
  {
   "cell_type": "markdown",
   "metadata": {
    "id": "ccN8sD6mWGc8"
   },
   "source": [
    "#Hyperparameter settings 5"
   ]
  },
  {
   "cell_type": "code",
   "execution_count": null,
   "metadata": {
    "id": "RIx469Fd7gQq"
   },
   "outputs": [],
   "source": [
    "#hyperparameter settings 5\n",
    "batch_size = 450\n",
    "num_iters = 5500\n",
    "input_dim = 28*28 # num_features = 784\n",
    "output_dim = 10\n",
    "learning_rate = 0.0008\n",
    "# Device\n",
    "device = torch.device(\"cuda:0\" if torch.cuda.is_available() else \"cpu\")"
   ]
  },
  {
   "cell_type": "code",
   "execution_count": null,
   "metadata": {
    "colab": {
     "base_uri": "https://localhost:8080/"
    },
    "id": "mf-z69qGvtXH",
    "outputId": "43df4e5f-323e-4efa-866c-0c1b938b3285"
   },
   "outputs": [
    {
     "name": "stdout",
     "output_type": "stream",
     "text": [
      "7204\n",
      "Train dataloader:145\n",
      "Test dataloader:17\n"
     ]
    }
   ],
   "source": [
    "\n",
    "\n",
    "# split data 10% for testing\n",
    "test_size = 0.1\n",
    "\n",
    "# obtain training indices that will be used for validation\n",
    "num_train = len(train_data)\n",
    "\n",
    "# mix data\n",
    "# index of num of train\n",
    "indices = list(range(num_train))\n",
    "# random the index\n",
    "np.random.shuffle(indices)\n",
    "split = int(np.floor(test_size * num_train))\n",
    "print(split)\n",
    "# divied into two part\n",
    "train_idx, test_idx = indices[split:], indices[:split]\n",
    "\n",
    "# define the sampler\n",
    "train_sampler = SubsetRandomSampler(train_idx)\n",
    "test_sampler = SubsetRandomSampler(test_idx)\n",
    "\n",
    "# prepare loaders\n",
    "train_loader = torch.utils.data.DataLoader(\n",
    "    train_data, batch_size=batch_size,\n",
    "    sampler=train_sampler)\n",
    "\n",
    "test_loader = torch.utils.data.DataLoader(\n",
    "    test_data, batch_size=batch_size,\n",
    "    sampler=test_sampler)\n",
    "\n",
    "print(\"Train dataloader:{}\".format(len(train_loader)))\n",
    "print(\"Test dataloader:{}\".format(len(test_loader)))"
   ]
  },
  {
   "cell_type": "markdown",
   "metadata": {
    "id": "UKNAv_yojK_e"
   },
   "source": [
    "#Total Training samples is 72045\n",
    "- 90,10 split ratio\n",
    "- Train set=64840\n",
    "- Test  set=7205\n",
    "\n"
   ]
  },
  {
   "cell_type": "code",
   "execution_count": null,
   "metadata": {
    "id": "1dBZmIMihGEq"
   },
   "outputs": [],
   "source": [
    "num_epochs = num_iters / (len(train_data) / batch_size)\n",
    "num_epochs = int(num_epochs)"
   ]
  },
  {
   "cell_type": "code",
   "execution_count": null,
   "metadata": {
    "colab": {
     "base_uri": "https://localhost:8080/"
    },
    "id": "7o8Fc9uV6ikp",
    "outputId": "b5a833c9-861c-4111-8254-e122fca78f8c"
   },
   "outputs": [
    {
     "name": "stdout",
     "output_type": "stream",
     "text": [
      "34\n"
     ]
    }
   ],
   "source": [
    "print(num_epochs)"
   ]
  },
  {
   "cell_type": "code",
   "execution_count": null,
   "metadata": {
    "colab": {
     "base_uri": "https://localhost:8080/",
     "height": 283
    },
    "id": "E9r_oFwshLeq",
    "outputId": "5cb454d0-819d-4eb7-8aec-3f0c88c16c1b"
   },
   "outputs": [
    {
     "data": {
      "text/plain": [
       "<matplotlib.image.AxesImage at 0x7fe17e0a9908>"
      ]
     },
     "execution_count": 18,
     "metadata": {
      "tags": []
     },
     "output_type": "execute_result"
    },
    {
     "data": {
      "image/png": "[encoded data removed]",
      "text/plain": [
       "<Figure size 432x288 with 1 Axes>"
      ]
     },
     "metadata": {
      "needs_background": "light",
      "tags": []
     },
     "output_type": "display_data"
    }
   ],
   "source": [
    "## Displaying a Namta Image\n",
    "\n",
    "import matplotlib.pyplot as plt \n",
    "import numpy as np\n",
    "\n",
    "show_img = train_data[0][0].numpy().reshape(28, 28)\n",
    "plt.imshow(show_img, cmap='gray')"
   ]
  },
  {
   "cell_type": "code",
   "execution_count": null,
   "metadata": {
    "colab": {
     "base_uri": "https://localhost:8080/",
     "height": 320
    },
    "id": "Ni0XE-u9hN02",
    "outputId": "82e914f1-e0b3-437e-953f-2e1fe4c89ec9"
   },
   "outputs": [
    {
     "name": "stdout",
     "output_type": "stream",
     "text": [
      "Label:\n",
      "1\n"
     ]
    },
    {
     "data": {
      "text/plain": [
       "<matplotlib.image.AxesImage at 0x7f37acb066d8>"
      ]
     },
     "execution_count": 17,
     "metadata": {
      "tags": []
     },
     "output_type": "execute_result"
    },
    {
     "data": {
      "image/png": "[encoded data removed]",
      "text/plain": [
       "<Figure size 432x288 with 1 Axes>"
      ]
     },
     "metadata": {
      "needs_background": "light",
      "tags": []
     },
     "output_type": "display_data"
    }
   ],
   "source": [
    "## Displaying another namta Image with label\n",
    " \n",
    "print(\"Label:\")\n",
    "print(train_data[2][1])\n",
    "\n",
    "show_img = train_data[2][0].numpy().reshape(28, 28)\n",
    "plt.imshow(show_img, cmap='gray')"
   ]
  },
  {
   "cell_type": "code",
   "execution_count": null,
   "metadata": {
    "colab": {
     "base_uri": "https://localhost:8080/"
    },
    "id": "BRMltipuhfd1",
    "outputId": "bc37c8f9-bc52-492b-a24b-b3a496f2f290"
   },
   "outputs": [
    {
     "name": "stdout",
     "output_type": "stream",
     "text": [
      "torch.Size([1, 28, 28])\n",
      "(1, 28, 28)\n",
      "5\n"
     ]
    }
   ],
   "source": [
    "# One Image Size\n",
    "print(train_data[0][0].size())\n",
    "print(train_data[0][0].numpy().shape)\n",
    "# First Image Label\n",
    "print(train_data[0][1])"
   ]
  },
  {
   "cell_type": "code",
   "execution_count": null,
   "metadata": {
    "id": "AjBE2F2shjaF"
   },
   "outputs": [],
   "source": [
    "class LogisticRegressionModel(nn.Module):\n",
    "    def __init__(self, input_size, num_classes):\n",
    "        super().__init__()\n",
    "        self.linear = nn.Linear(input_size, num_classes)\n",
    "\n",
    "    def forward(self, x):\n",
    "        logits  = self.linear(x)\n",
    "        probas = F.softmax(logits, dim=1)\n",
    "        return logits, probas\n",
    "        "
   ]
  },
  {
   "cell_type": "code",
   "execution_count": null,
   "metadata": {
    "colab": {
     "base_uri": "https://localhost:8080/"
    },
    "id": "b7eNyjdhhmZ2",
    "outputId": "00b4d7b1-023c-4426-e9f3-3527a21d99c3"
   },
   "outputs": [
    {
     "data": {
      "text/plain": [
       "LogisticRegressionModel(\n",
       "  (linear): Linear(in_features=784, out_features=10, bias=True)\n",
       ")"
      ]
     },
     "execution_count": 19,
     "metadata": {
      "tags": []
     },
     "output_type": "execute_result"
    }
   ],
   "source": [
    "'''\n",
    "INSTANTIATE MODEL CLASS\n",
    "'''\n",
    "model = LogisticRegressionModel(input_size=input_dim,\n",
    "                                num_classes=output_dim)\n",
    "\n",
    "# To enable GPU\n",
    "model.to(device)"
   ]
  },
  {
   "cell_type": "code",
   "execution_count": null,
   "metadata": {
    "id": "xmzF9qLkhqqu"
   },
   "outputs": [],
   "source": [
    "# INSTANTIATE OPTIMIZER CLASS\n",
    "#optimizer = torch.optim.SGD(model.parameters(), lr=learning_rate)\n",
    "optimizer = torch.optim.Adam(model.parameters(), lr=learning_rate)\n"
   ]
  },
  {
   "cell_type": "code",
   "execution_count": null,
   "metadata": {
    "colab": {
     "base_uri": "https://localhost:8080/"
    },
    "id": "d9SJjCKxwCLH",
    "outputId": "306f4e49-a988-4bfb-917c-9cac3f459556"
   },
   "outputs": [
    {
     "name": "stdout",
     "output_type": "stream",
     "text": [
      "Iteration: 500. Loss: 2.0158424377441406. Accuracy: 26.83231538034425\n",
      "Iteration: 1000. Loss: 2.014610767364502. Accuracy: 26.985008328706275\n",
      "Iteration: 1500. Loss: 1.976386547088623. Accuracy: 32.468073292615216\n",
      "Iteration: 2000. Loss: 1.9001635313034058. Accuracy: 33.62021099389228\n",
      "Iteration: 2500. Loss: 1.9006940126419067. Accuracy: 35.43864519711271\n",
      "Iteration: 3000. Loss: 1.9132037162780762. Accuracy: 36.36868406440866\n",
      "Iteration: 3500. Loss: 1.914747953414917. Accuracy: 35.9106052193226\n",
      "Iteration: 4000. Loss: 1.970603585243225. Accuracy: 37.229317046085505\n"
     ]
    }
   ],
   "source": [
    "'''\n",
    "TRAIN THE MODEL with setting 1\n",
    "'''\n",
    "iteration_loss = []\n",
    "iter = 0\n",
    "for epoch in range(num_epochs):\n",
    "    for i, (images, labels) in enumerate(train_loader):\n",
    "\n",
    "        images = images.view(-1, 28*28).to(device)\n",
    "        labels = labels.to(device)\n",
    "\n",
    "        # Clear gradients w.r.t. parameters\n",
    "        optimizer.zero_grad()\n",
    "\n",
    "        # Forward pass to get output/logits\n",
    "        logits, probas = model(images) \n",
    "\n",
    "        # Calculate Loss: PyTorch implementation of CrossEntropyLoss works with logits, not probabilities\n",
    "        loss = F.cross_entropy(logits, labels)\n",
    "\n",
    "        # Getting gradients w.r.t. parameters\n",
    "        loss.backward()\n",
    "\n",
    "        # Updating parameters\n",
    "        optimizer.step()\n",
    "\n",
    "        iter += 1\n",
    "\n",
    "        if iter % 500 == 0:\n",
    "            # Calculate Accuracy         \n",
    "            correct = 0\n",
    "            total = 0\n",
    "            # Iterate through test dataset\n",
    "            for images, labels in test_loader:\n",
    "               \n",
    "                images = images.view(-1, 28*28).to(device)\n",
    "\n",
    "                # Forward pass only to get logits/output\n",
    "                logits, probas = model(images)\n",
    "\n",
    "                # Get predictions from the maximum value\n",
    "                _, predicted = torch.max(probas, 1)\n",
    "\n",
    "                # Total number of labels\n",
    "                total += labels.size(0)\n",
    "\n",
    "\n",
    "                # Total correct predictions\n",
    "                if torch.cuda.is_available():\n",
    "                    correct += (predicted.cpu() == labels.cpu()).sum() \n",
    "                else:\n",
    "                    correct += (predicted == labels).sum()\n",
    "\n",
    "            accuracy = 100 * correct.item() / total\n",
    "\n",
    "            # Print Loss\n",
    "            iteration_loss.append(loss.item())\n",
    "            print('Iteration: {}. Loss: {}. Accuracy: {}'.format(iter, loss.item(), accuracy))"
   ]
  },
  {
   "cell_type": "code",
   "execution_count": null,
   "metadata": {
    "colab": {
     "base_uri": "https://localhost:8080/"
    },
    "id": "MNAV7xuIwEP4",
    "outputId": "038d6105-460b-45c1-c29b-9d178462efa2"
   },
   "outputs": [
    {
     "name": "stdout",
     "output_type": "stream",
     "text": [
      "Iteration: 500. Loss: 1.8968809843063354. Accuracy: 29.05330372015547\n",
      "Iteration: 1000. Loss: 1.8711358308792114. Accuracy: 34.71682398667407\n",
      "Iteration: 1500. Loss: 1.826970100402832. Accuracy: 34.119933370349806\n",
      "Iteration: 2000. Loss: 1.8469741344451904. Accuracy: 38.7423653525819\n",
      "Iteration: 2500. Loss: 1.8160319328308105. Accuracy: 40.26929483620211\n",
      "Iteration: 3000. Loss: 1.8682307004928589. Accuracy: 40.86618545252637\n",
      "Iteration: 3500. Loss: 1.7383891344070435. Accuracy: 39.727928928373125\n"
     ]
    }
   ],
   "source": [
    "'''\n",
    "TRAIN THE MODEL with setting 2\n",
    "'''\n",
    "iteration_loss = []\n",
    "iter = 0\n",
    "for epoch in range(num_epochs):\n",
    "    for i, (images, labels) in enumerate(train_loader):\n",
    "\n",
    "        images = images.view(-1, 28*28).to(device)\n",
    "        labels = labels.to(device)\n",
    "\n",
    "        # Clear gradients w.r.t. parameters\n",
    "        optimizer.zero_grad()\n",
    "\n",
    "        # Forward pass to get output/logits\n",
    "        logits, probas = model(images) \n",
    "\n",
    "        # Calculate Loss: PyTorch implementation of CrossEntropyLoss works with logits, not probabilities\n",
    "        loss = F.cross_entropy(logits, labels)\n",
    "\n",
    "        # Getting gradients w.r.t. parameters\n",
    "        loss.backward()\n",
    "\n",
    "        # Updating parameters\n",
    "        optimizer.step()\n",
    "\n",
    "        iter += 1\n",
    "\n",
    "        if iter % 500 == 0:\n",
    "            # Calculate Accuracy         \n",
    "            correct = 0\n",
    "            total = 0\n",
    "            # Iterate through test dataset\n",
    "            for images, labels in test_loader:\n",
    "               \n",
    "                images = images.view(-1, 28*28).to(device)\n",
    "\n",
    "                # Forward pass only to get logits/output\n",
    "                logits, probas = model(images)\n",
    "\n",
    "                # Get predictions from the maximum value\n",
    "                _, predicted = torch.max(probas, 1)\n",
    "\n",
    "                # Total number of labels\n",
    "                total += labels.size(0)\n",
    "\n",
    "\n",
    "                # Total correct predictions\n",
    "                if torch.cuda.is_available():\n",
    "                    correct += (predicted.cpu() == labels.cpu()).sum() \n",
    "                else:\n",
    "                    correct += (predicted == labels).sum()\n",
    "\n",
    "            accuracy = 100 * correct.item() / total\n",
    "\n",
    "            # Print Loss\n",
    "            iteration_loss.append(loss.item())\n",
    "            print('Iteration: {}. Loss: {}. Accuracy: {}'.format(iter, loss.item(), accuracy))"
   ]
  },
  {
   "cell_type": "code",
   "execution_count": null,
   "metadata": {
    "id": "YEesTb1h8wYv",
    "outputId": "d1f4b52e-3d6b-405d-d8d7-0077badeecdc"
   },
   "outputs": [
    {
     "name": "stdout",
     "output_type": "stream",
     "text": [
      "Iteration: 500. Loss: 1.9283236265182495. Accuracy: 35.60521932259856\n",
      "Iteration: 1000. Loss: 1.8054713010787964. Accuracy: 34.49472515269295\n",
      "Iteration: 1500. Loss: 1.8371092081069946. Accuracy: 39.228206551915605\n",
      "Iteration: 2000. Loss: 1.7698915004730225. Accuracy: 39.68628539700167\n",
      "Iteration: 2500. Loss: 1.7411894798278809. Accuracy: 40.56079955580233\n"
     ]
    }
   ],
   "source": [
    "\n",
    "'''\n",
    "TRAIN THE MODEL setting 3\n",
    "'''\n",
    "iteration_loss = []\n",
    "iter = 0\n",
    "for epoch in range(num_epochs):\n",
    "    for i, (images, labels) in enumerate(train_loader):\n",
    "\n",
    "        images = images.view(-1, 28*28).to(device)\n",
    "        labels = labels.to(device)\n",
    "\n",
    "        # Clear gradients w.r.t. parameters\n",
    "        optimizer.zero_grad()\n",
    "\n",
    "        # Forward pass to get output/logits\n",
    "        logits, probas = model(images) \n",
    "\n",
    "        # Calculate Loss: PyTorch implementation of CrossEntropyLoss works with logits, not probabilities\n",
    "        loss = F.cross_entropy(logits, labels)\n",
    "\n",
    "        # Getting gradients w.r.t. parameters\n",
    "        loss.backward()\n",
    "\n",
    "        # Updating parameters\n",
    "        optimizer.step()\n",
    "\n",
    "        iter += 1\n",
    "\n",
    "        if iter % 500 == 0:\n",
    "            # Calculate Accuracy         \n",
    "            correct = 0\n",
    "            total = 0\n",
    "            # Iterate through test dataset\n",
    "            for images, labels in test_loader:\n",
    "               \n",
    "                images = images.view(-1, 28*28).to(device)\n",
    "\n",
    "                # Forward pass only to get logits/output\n",
    "                logits, probas = model(images)\n",
    "\n",
    "                # Get predictions from the maximum value\n",
    "                _, predicted = torch.max(probas, 1)\n",
    "\n",
    "                # Total number of labels\n",
    "                total += labels.size(0)\n",
    "\n",
    "\n",
    "                # Total correct predictions\n",
    "                if torch.cuda.is_available():\n",
    "                    correct += (predicted.cpu() == labels.cpu()).sum() \n",
    "                else:\n",
    "                    correct += (predicted == labels).sum()\n",
    "\n",
    "            accuracy = 100 * correct.item() / total\n",
    "\n",
    "            # Print Loss\n",
    "            iteration_loss.append(loss.item())\n",
    "            print('Iteration: {}. Loss: {}. Accuracy: {}'.format(iter, loss.item(), accuracy))"
   ]
  },
  {
   "cell_type": "code",
   "execution_count": null,
   "metadata": {
    "colab": {
     "base_uri": "https://localhost:8080/"
    },
    "id": "uNhCExz9ip-H",
    "outputId": "85c4121b-c7e2-4868-dd1d-2b009a23f668"
   },
   "outputs": [
    {
     "name": "stdout",
     "output_type": "stream",
     "text": [
      "Iteration: 500. Loss: 1.9343632459640503. Accuracy: 28.498056635202666\n",
      "Iteration: 1000. Loss: 1.790558934211731. Accuracy: 36.27151582454192\n",
      "Iteration: 1500. Loss: 1.8833093643188477. Accuracy: 37.82620766240977\n",
      "Iteration: 2000. Loss: 1.8512507677078247. Accuracy: 38.35369239311493\n",
      "Iteration: 2500. Loss: 1.7824289798736572. Accuracy: 40.01943364797335\n",
      "Iteration: 3000. Loss: 1.83253014087677. Accuracy: 42.226540810660744\n"
     ]
    }
   ],
   "source": [
    "'''\n",
    "TRAIN THE MODEL with setting 4\n",
    "'''\n",
    "iteration_loss = []\n",
    "iter = 0\n",
    "for epoch in range(num_epochs):\n",
    "    for i, (images, labels) in enumerate(train_loader):\n",
    "\n",
    "        images = images.view(-1, 28*28).to(device)\n",
    "        labels = labels.to(device)\n",
    "\n",
    "        # Clear gradients w.r.t. parameters\n",
    "        optimizer.zero_grad()\n",
    "\n",
    "        # Forward pass to get output/logits\n",
    "        logits, probas = model(images) \n",
    "\n",
    "        # Calculate Loss: PyTorch implementation of CrossEntropyLoss works with logits, not probabilities\n",
    "        loss = F.cross_entropy(logits, labels)\n",
    "\n",
    "        # Getting gradients w.r.t. parameters\n",
    "        loss.backward()\n",
    "\n",
    "        # Updating parameters\n",
    "        optimizer.step()\n",
    "\n",
    "        iter += 1\n",
    "\n",
    "        if iter % 500 == 0:\n",
    "            # Calculate Accuracy         \n",
    "            correct = 0\n",
    "            total = 0\n",
    "            # Iterate through test dataset\n",
    "            for images, labels in test_loader:\n",
    "               \n",
    "                images = images.view(-1, 28*28).to(device)\n",
    "\n",
    "                # Forward pass only to get logits/output\n",
    "                logits, probas = model(images)\n",
    "\n",
    "                # Get predictions from the maximum value\n",
    "                _, predicted = torch.max(probas, 1)\n",
    "\n",
    "                # Total number of labels\n",
    "                total += labels.size(0)\n",
    "\n",
    "\n",
    "                # Total correct predictions\n",
    "                if torch.cuda.is_available():\n",
    "                    correct += (predicted.cpu() == labels.cpu()).sum() \n",
    "                else:\n",
    "                    correct += (predicted == labels).sum()\n",
    "\n",
    "            accuracy = 100 * correct.item() / total\n",
    "\n",
    "            # Print Loss\n",
    "            iteration_loss.append(loss.item())\n",
    "            print('Iteration: {}. Loss: {}. Accuracy: {}'.format(iter, loss.item(), accuracy))"
   ]
  },
  {
   "cell_type": "code",
   "execution_count": null,
   "metadata": {
    "id": "fPqOPQy2VRSU",
    "outputId": "04c2568e-52b7-4281-bc56-fd584dfbf4cf"
   },
   "outputs": [
    {
     "name": "stdout",
     "output_type": "stream",
     "text": [
      "Iteration: 500. Loss: 1.9149141311645508. Accuracy: 33.7729039422543\n",
      "Iteration: 1000. Loss: 1.8425124883651733. Accuracy: 36.45197112715158\n",
      "Iteration: 1500. Loss: 1.8857557773590088. Accuracy: 40.06107717934481\n",
      "Iteration: 2000. Loss: 1.762655258178711. Accuracy: 40.92171016102166\n",
      "Iteration: 2500. Loss: 1.8268675804138184. Accuracy: 39.727928928373125\n",
      "Iteration: 3000. Loss: 1.7530409097671509. Accuracy: 44.017212659633536\n",
      "Iteration: 3500. Loss: 1.7494487762451172. Accuracy: 41.615769017212656\n",
      "Iteration: 4000. Loss: 1.7905892133712769. Accuracy: 40.96335369239311\n",
      "Iteration: 4500. Loss: 1.7490450143814087. Accuracy: 43.600777345918935\n"
     ]
    }
   ],
   "source": [
    "\n",
    "'''\n",
    "TRAIN THE MODEL with setting 5\n",
    "'''\n",
    "iteration_loss = []\n",
    "iter = 0\n",
    "for epoch in range(num_epochs):\n",
    "    for i, (images, labels) in enumerate(train_loader):\n",
    "\n",
    "        images = images.view(-1, 28*28).to(device)\n",
    "        labels = labels.to(device)\n",
    "\n",
    "        # Clear gradients w.r.t. parameters\n",
    "        optimizer.zero_grad()\n",
    "\n",
    "        # Forward pass to get output/logits\n",
    "        logits, probas = model(images) \n",
    "\n",
    "        # Calculate Loss: PyTorch implementation of CrossEntropyLoss works with logits, not probabilities\n",
    "        loss = F.cross_entropy(logits, labels)\n",
    "\n",
    "        # Getting gradients w.r.t. parameters\n",
    "        loss.backward()\n",
    "\n",
    "        # Updating parameters\n",
    "        optimizer.step()\n",
    "\n",
    "        iter += 1\n",
    "\n",
    "        if iter % 500 == 0:\n",
    "            # Calculate Accuracy         \n",
    "            correct = 0\n",
    "            total = 0\n",
    "            # Iterate through test dataset\n",
    "            for images, labels in test_loader:\n",
    "               \n",
    "                images = images.view(-1, 28*28).to(device)\n",
    "\n",
    "                # Forward pass only to get logits/output\n",
    "                logits, probas = model(images)\n",
    "\n",
    "                # Get predictions from the maximum value\n",
    "                _, predicted = torch.max(probas, 1)\n",
    "\n",
    "                # Total number of labels\n",
    "                total += labels.size(0)\n",
    "\n",
    "\n",
    "                # Total correct predictions\n",
    "                if torch.cuda.is_available():\n",
    "                    correct += (predicted.cpu() == labels.cpu()).sum() \n",
    "                else:\n",
    "                    correct += (predicted == labels).sum()\n",
    "\n",
    "            accuracy = 100 * correct.item() / total\n",
    "\n",
    "            # Print Loss\n",
    "            iteration_loss.append(loss.item())\n",
    "            print('Iteration: {}. Loss: {}. Accuracy: {}'.format(iter, loss.item(), accuracy))"
   ]
  },
  {
   "cell_type": "code",
   "execution_count": null,
   "metadata": {
    "colab": {
     "base_uri": "https://localhost:8080/",
     "height": 297
    },
    "id": "VoOinaJ95fA0",
    "outputId": "64d4beb9-242f-424a-8aed-fb8c933147fa"
   },
   "outputs": [
    {
     "name": "stdout",
     "output_type": "stream",
     "text": [
      "[1.9149141311645508, 1.8425124883651733, 1.8857557773590088, 1.762655258178711, 1.8268675804138184, 1.7530409097671509, 1.7494487762451172, 1.7905892133712769, 1.7490450143814087]\n"
     ]
    },
    {
     "data": {
      "image/png": "[encoded data removed]",
      "text/plain": [
       "<Figure size 432x288 with 1 Axes>"
      ]
     },
     "metadata": {
      "needs_background": "light",
      "tags": []
     },
     "output_type": "display_data"
    }
   ],
   "source": [
    "\n",
    "import matplotlib\n",
    "import matplotlib.pyplot as plt\n",
    "\n",
    "print (iteration_loss)\n",
    "plt.plot(iteration_loss)\n",
    "plt.ylabel('Cross Entropy Loss')\n",
    "plt.xlabel('Iteration (in every 500)')\n",
    "plt.show()"
   ]
  },
  {
   "cell_type": "code",
   "execution_count": null,
   "metadata": {
    "id": "t0Amuobu5ktS"
   },
   "outputs": [],
   "source": [
    "#settings 1\n",
    "save_model = True\n",
    "\n",
    "if save_model is True:\n",
    "    # Saves only parameters\n",
    "    # wights & biases\n",
    "    torch.save(model.state_dict(), PATH + 'Namta_logistic.pkl') "
   ]
  },
  {
   "cell_type": "code",
   "execution_count": null,
   "metadata": {
    "id": "qT-Qpn8QBObG"
   },
   "outputs": [],
   "source": [
    "#settings 2\n",
    "save_model = True\n",
    "\n",
    "if save_model is True:\n",
    "    # Saves only parameters\n",
    "    # wights & biases\n",
    "    torch.save(model.state_dict(), PATH + 'Namta_logistic2.pkl') "
   ]
  },
  {
   "cell_type": "code",
   "execution_count": null,
   "metadata": {
    "id": "phEOw_1ihi9C"
   },
   "outputs": [],
   "source": [
    "#settings 3\n",
    "save_model = True\n",
    "\n",
    "if save_model is True:\n",
    "    # Saves only parameters\n",
    "    # wights & biases\n",
    "    torch.save(model.state_dict(), PATH + 'Namta_logistic3.pkl') "
   ]
  },
  {
   "cell_type": "code",
   "execution_count": null,
   "metadata": {
    "id": "bW4H11tv925_"
   },
   "outputs": [],
   "source": [
    "#settings 4\n",
    "save_model = True\n",
    "\n",
    "if save_model is True:\n",
    "    # Saves only parameters\n",
    "    # wights & biases\n",
    "    torch.save(model.state_dict(), PATH + 'Namta_logistic4.pkl') "
   ]
  },
  {
   "cell_type": "code",
   "execution_count": null,
   "metadata": {
    "id": "ZAOqzY-T94O2"
   },
   "outputs": [],
   "source": [
    "#settings 5\n",
    "save_model = True\n",
    "\n",
    "if save_model is True:\n",
    "    # Saves only parameters\n",
    "    # wights & biases\n",
    "    torch.save(model.state_dict(), PATH + 'Namta_logistic5.pkl') "
   ]
  },
  {
   "cell_type": "code",
   "execution_count": null,
   "metadata": {
    "colab": {
     "base_uri": "https://localhost:8080/"
    },
    "id": "o5Mzs0FG524D",
    "outputId": "4a4d199f-4950-43cf-aaf9-c65fce68b3cd"
   },
   "outputs": [
    {
     "name": "stdout",
     "output_type": "stream",
     "text": [
      "Trained Model Loaded\n"
     ]
    }
   ],
   "source": [
    "#settings 1\n",
    "load_model = True\n",
    "\n",
    "if load_model is True:\n",
    "    model.load_state_dict(torch.load(PATH + 'Namta_logistic.pkl'))\n",
    "    print('Trained Model Loaded')"
   ]
  },
  {
   "cell_type": "code",
   "execution_count": null,
   "metadata": {
    "colab": {
     "base_uri": "https://localhost:8080/"
    },
    "id": "o-YWK9ICB7mM",
    "outputId": "e7d96fef-eaf4-46bc-a21f-1758cbf6623c"
   },
   "outputs": [
    {
     "name": "stdout",
     "output_type": "stream",
     "text": [
      "Trained Model Loaded\n"
     ]
    }
   ],
   "source": [
    "#settings 2\n",
    "load_model = True\n",
    "\n",
    "if load_model is True:\n",
    "    model.load_state_dict(torch.load(PATH + 'Namta_logistic2.pkl'))\n",
    "    print('Trained Model Loaded')"
   ]
  },
  {
   "cell_type": "code",
   "execution_count": null,
   "metadata": {
    "colab": {
     "base_uri": "https://localhost:8080/"
    },
    "id": "0r7yc6vrhnQi",
    "outputId": "4afe4970-80c4-451f-ab97-95ef6d1a2079"
   },
   "outputs": [
    {
     "name": "stdout",
     "output_type": "stream",
     "text": [
      "Trained Model Loaded\n"
     ]
    }
   ],
   "source": [
    "#settings 3\n",
    "load_model = True\n",
    "\n",
    "if load_model is True:\n",
    "    model.load_state_dict(torch.load(PATH + 'Namta_logistic3.pkl'))\n",
    "    print('Trained Model Loaded')"
   ]
  },
  {
   "cell_type": "code",
   "execution_count": null,
   "metadata": {
    "colab": {
     "base_uri": "https://localhost:8080/"
    },
    "id": "A1cu8m_9986n",
    "outputId": "95732ff7-44a2-49e9-d547-f8dd25dceba6"
   },
   "outputs": [
    {
     "name": "stdout",
     "output_type": "stream",
     "text": [
      "Trained Model Loaded\n"
     ]
    }
   ],
   "source": [
    "#settings 4\n",
    "load_model = True\n",
    "\n",
    "if load_model is True:\n",
    "    model.load_state_dict(torch.load(PATH + 'Namta_logistic4.pkl'))\n",
    "    print('Trained Model Loaded')"
   ]
  },
  {
   "cell_type": "code",
   "execution_count": null,
   "metadata": {
    "id": "_if277dd9-ov"
   },
   "outputs": [],
   "source": [
    "#settings 5\n",
    "load_model = True\n",
    "\n",
    "if load_model is True:\n",
    "    model.load_state_dict(torch.load(PATH + 'Namta_logistic5.pkl'))\n",
    "    print('Trained Model Loaded')"
   ]
  },
  {
   "cell_type": "code",
   "execution_count": null,
   "metadata": {
    "colab": {
     "base_uri": "https://localhost:8080/",
     "height": 109
    },
    "id": "0udp_wi656x0",
    "outputId": "fd4be573-9688-43d1-f1ad-ed282afde58a"
   },
   "outputs": [
    {
     "data": {
      "image/png": "[encoded data removed]",
      "text/plain": [
       "<Figure size 432x288 with 5 Axes>"
      ]
     },
     "metadata": {
      "needs_background": "light",
      "tags": []
     },
     "output_type": "display_data"
    }
   ],
   "source": [
    "for images, labels in test_loader:\n",
    "   break\n",
    "    \n",
    "fig, ax = plt.subplots(1,5)\n",
    "for i in range(5):\n",
    "    ax[i].imshow(images[i].view(28, 28), cmap=matplotlib.cm.binary)\n",
    "\n",
    "plt.show()"
   ]
  },
  {
   "cell_type": "code",
   "execution_count": null,
   "metadata": {
    "colab": {
     "base_uri": "https://localhost:8080/"
    },
    "id": "_0qaVmj_59EE",
    "outputId": "373ba2d9-a38b-4813-db13-c43af6563fb7"
   },
   "outputs": [
    {
     "name": "stdout",
     "output_type": "stream",
     "text": [
      "Predicted labels [4 0 9 4 6]\n"
     ]
    }
   ],
   "source": [
    "_, predictions = model.forward(images[:5].view(-1, 28*28).to(device))\n",
    "predictions = torch.argmax(predictions, dim=1)\n",
    "print('Predicted labels', predictions.cpu().numpy())"
   ]
  },
  {
   "cell_type": "markdown",
   "metadata": {
    "id": "EfisWwDCXl-3"
   },
   "source": [
    "###Loss plots for hyperparameter settings 1 and 2:\n",
    "<div align=\"center\">\n",
    "<img src=\"https://drive.google.com/uc?id=1aRtL5FK0g1ViI7T5UfOj7L0y95PCgxBO\" width=\"300\">\n",
    "<img src=\"https://drive.google.com/uc?id=1tNK2Hzfj3JE2RgdOy3PTieADgqLXRYHM\" width=\"300\">\n",
    "</div>\n",
    "Loss plots for hyperparameter settings 3 and 4:\n",
    "<div align=\"center\">\n",
    "<img src=\"https://drive.google.com/uc?id=16taCu2ehSoDeBmR4g6O-JmVgbwIIcvAP\" width=\"300\">\n",
    "<img src=\"https://drive.google.com/uc?id=18urt6SGG-EH889JKH1NkN0ratsd8zIDq\" width=\"300\">\n",
    "</div>\n",
    "Loss plot for hyperparameter settings 5\n",
    "<div align=\"center\">\n",
    "<img src=\"https://drive.google.com/uc?id=1yetxXmxrweUzn4QUcqmWr6igABSWJXLI\" width=\"300\">\n",
    "\n",
    "</div>"
   ]
  },
  {
   "cell_type": "markdown",
   "metadata": {
    "id": "Kk5yw7DRPFNE"
   },
   "source": [
    "**Result table:-**\n",
    "\n",
    "| Settings| Batch Size    | Iteration     | Learning Rate |  Optimzer           |  Accuracy(%)|\n",
    "|:--------:| :----------: | :-----------: | : -----------:|:-----:      |:-----------:|\n",
    "| 1        |300          | 5000       | 0.0001        |  SGD    |  37.229    |\n",
    "| 2        | 200         | 4000          | 0.0003        |  ADAM    |  39.727    |\n",
    "| 3        |  400       |   3000   |    0.0006 |  ADAM   |    40.56   |\n",
    "| 4        |  300       |   4000  |  0.0003  |  ADAM   |  42.226    |\n",
    "| 5        |   450       |    5500    | 0.0008       |  ADAM    |   43.60    |\n",
    "\n",
    "#Hyperparameter settings 1\n",
    "Initially a batch size of 300 was selcted with 5000 iteration.Lr was set to 0.0001.The number of epochs were 20.Accuray was 37.229%.\n",
    "\n",
    "#Hyperparameter settings 2\n",
    "In the second hyperparameter settings both batch size and iteration were reducded to 200 and 4000.Lr was set to 0.0003.The number of epochs were 11.Accuracy was 39.727%\n",
    "\n",
    "#Hyperparameter settings 3\n",
    "Batch size was increased to 400,iterarion was set to 3000.Lr was set 0.0006.Number of epochs were 16.Accuracy was 40.56\n",
    "\n",
    "#Hyperparameter settings 4\n",
    "Batch size was 300 iteration was increased to 4000.Lr was set to 0.0003.Number of epochs were same as settings 3 which is 16.Accuracy improved to 42.226\n",
    "\n",
    "#Hyperparameter settings 4\n",
    "Batch size and iteration were increased to 450 and 5500.Lr was set to 0.0008.Number of epochs were 34.Accuracy was 43.60"
   ]
  },
  {
   "cell_type": "markdown",
   "metadata": {
    "id": "NKllKLof5_TK"
   },
   "source": [
    "**Best Model**\n",
    "\n",
    "- Model Name: **Namta_logistic5.pkl**\n",
    "\n",
    "- Batch Size: **450**\n",
    "- Iteration: **5500**\n",
    "\n",
    "- Learning Rate: **0.0008**\n",
    "- Epochs:**34** \n",
    "- Accuracy: **43.60**\n"
   ]
  },
  {
   "cell_type": "markdown",
   "metadata": {
    "id": "W3H9kuUY-YrL"
   },
   "source": [
    "###Prediction\n",
    "\n",
    "When trying to predict the the digits most of the time model is able to correctly predict **2** out of **5** digits."
   ]
  }
 ],
 "metadata": {
  "accelerator": "GPU",
  "colab": {
   "name": "160204017_Problem#1.ipynb",
   "provenance": []
  },
  "kernelspec": {
   "display_name": "Python 3",
   "language": "python",
   "name": "python3"
  },
  "language_info": {
   "codemirror_mode": {
    "name": "ipython",
    "version": 3
   },
   "file_extension": ".py",
   "mimetype": "text/x-python",
   "name": "python",
   "nbconvert_exporter": "python",
   "pygments_lexer": "ipython3",
   "version": "3.8.5"
  }
 },
 "nbformat": 4,
 "nbformat_minor": 1
}
