{
 "cells": [
  {
   "cell_type": "code",
   "execution_count": null,
   "metadata": {
    "colab": {
     "base_uri": "https://localhost:8080/"
    },
    "id": "xmhYLZOJqTVI",
    "outputId": "fa734337-79e2-4f87-be7c-f2e530a82b4d"
   },
   "outputs": [
    {
     "name": "stdout",
     "output_type": "stream",
     "text": [
      "Mounted at /content/gdrive\n"
     ]
    }
   ],
   "source": [
    "from google.colab import drive\n",
    "\n",
    "drive.mount('/content/gdrive')"
   ]
  },
  {
   "cell_type": "markdown",
   "metadata": {
    "id": "9iJHeXUPVhv3"
   },
   "source": [
    "###Ekush\n",
    "A Multipurpose and Multitype Comprehensive Database for Online Off-line Bangla Handwritten Characters. Ekush has several features.The logistic regression is applied on male and female handwrittend digits class.Two dataset images are given below as examples.Here 2 is the female written digit and 1 is the male written digit\n",
    "<div align=\"center\">\n",
    "<img src=\"https://drive.google.com/uc?id=1Vic2gcDDf-MQfYulDIuquOrnnXGn_9Ak\" width=\"100\">\n",
    "<img src=\"https://drive.google.com/uc?id=1GndS6hhrHcBS1CgnQin7OPWqiWwiCxDA\" width=\"100\">\n",
    "</div>"
   ]
  },
  {
   "cell_type": "markdown",
   "metadata": {
    "id": "2A_A52jTZRzx"
   },
   "source": [
    "###PreProcess\n",
    "Since Ekush has images of different class and only male and female digits are needed for this assignment the male are female digits image folder starting from 110 to 119 are separated .Then the images were renamed having label with 0 and 1. 0 For male and 1 for female.Then two csv files are made for the male and female images having their imagename and label.The pre process was done on pc as it takes a very long time to read and write large number of files from drive.\n",
    "\n"
   ]
  },
  {
   "cell_type": "code",
   "execution_count": null,
   "metadata": {
    "id": "_mD1Ivowqljf"
   },
   "outputs": [],
   "source": [
    "import os\n",
    "from os import path\n",
    "import shutil\n",
    "import numpy as np\n",
    "import pandas as pd\n",
    "import torch\n",
    "import torch.nn as nn\n",
    "import torch.nn.functional as F\n",
    "import torch.optim as optim\n",
    "from torch.utils.data import Dataset\n",
    "from torch.utils.data.sampler import SubsetRandomSampler\n",
    "from torchvision import datasets, transforms, models\n",
    "import matplotlib\n",
    "import matplotlib.pyplot as plt\n",
    "from PIL import Image"
   ]
  },
  {
   "cell_type": "code",
   "execution_count": null,
   "metadata": {
    "colab": {
     "base_uri": "https://localhost:8080/"
    },
    "id": "vSa1A9EvqpWo",
    "outputId": "da963746-8fa7-4960-daab-aba35f1cafc4"
   },
   "outputs": [
    {
     "data": {
      "text/plain": [
       "['female_c449.jpg',\n",
       " 'male_b1370.jpg',\n",
       " 'male_f218.jpg',\n",
       " 'male_digit.csv',\n",
       " 'female_digit.csv',\n",
       " 'train',\n",
       " 'Ekush_logistic.pkl',\n",
       " 'male_digit',\n",
       " 'female_digit',\n",
       " 'Ekush_logistic2.pkl',\n",
       " 'Ekush_logistic5.pkl',\n",
       " 'Elushloss1final.png',\n",
       " 'ekushlossfinal3.png',\n",
       " 'ekushlossfunal2.png',\n",
       " 'ekushlossfinal5.png',\n",
       " 'ekushlossfinal4.png']"
      ]
     },
     "execution_count": 3,
     "metadata": {
      "tags": []
     },
     "output_type": "execute_result"
    }
   ],
   "source": [
    "PATH = '/content/gdrive/MyDrive/Ekush/'\n",
    "os.listdir(PATH)"
   ]
  },
  {
   "cell_type": "code",
   "execution_count": null,
   "metadata": {
    "id": "EUIZYdCdq5h5"
   },
   "outputs": [],
   "source": [
    "def showRawTrainingSamples(csv_filename):\n",
    "  df = pd.read_csv(PATH + csv_filename)\n",
    "  print(csv_filename)\n",
    "  print(df.columns)\n",
    "  return df"
   ]
  },
  {
   "cell_type": "code",
   "execution_count": null,
   "metadata": {
    "colab": {
     "base_uri": "https://localhost:8080/"
    },
    "id": "ABAUdKwDq_Vi",
    "outputId": "7d22224d-70d5-4e47-9e95-c1820c765260"
   },
   "outputs": [
    {
     "name": "stdout",
     "output_type": "stream",
     "text": [
      "male_digit.csv\n",
      "Index(['digit', 'filename'], dtype='object')\n",
      "female_digit.csv\n",
      "Index(['digit', 'filename'], dtype='object')\n"
     ]
    }
   ],
   "source": [
    "a_csv = showRawTrainingSamples('male_digit.csv')\n",
    "b_csv = showRawTrainingSamples('female_digit.csv')"
   ]
  },
  {
   "cell_type": "code",
   "execution_count": null,
   "metadata": {
    "id": "apTMU0p_rnJQ"
   },
   "outputs": [],
   "source": [
    "def dropColumns(csv_file):\n",
    "  csv_file = csv_file[['filename', 'digit']]\n",
    "  print(csv_file)\n",
    "  print(csv_file.iloc[:2, :])   #First 5 Rows of the CSV File\n",
    "  print(\"=============================\")\n",
    "  return csv_file"
   ]
  },
  {
   "cell_type": "code",
   "execution_count": null,
   "metadata": {
    "colab": {
     "base_uri": "https://localhost:8080/"
    },
    "id": "mc4fxuTurtN_",
    "outputId": "291e8f30-38d2-49e4-e87c-fb538a211fdb"
   },
   "outputs": [
    {
     "name": "stdout",
     "output_type": "stream",
     "text": [
      "             filename  digit\n",
      "0         male_a0.jpg      0\n",
      "1         male_a1.jpg      0\n",
      "2        male_a10.jpg      0\n",
      "3       male_a100.jpg      0\n",
      "4      male_a1000.jpg      0\n",
      "...               ...    ...\n",
      "15063   male_j995.jpg      0\n",
      "15064   male_j996.jpg      0\n",
      "15065   male_j997.jpg      0\n",
      "15066   male_j998.jpg      0\n",
      "15067   male_j999.jpg      0\n",
      "\n",
      "[15068 rows x 2 columns]\n",
      "      filename  digit\n",
      "0  male_a0.jpg      0\n",
      "1  male_a1.jpg      0\n",
      "=============================\n",
      "               filename  digit\n",
      "0         female_a0.jpg      1\n",
      "1         female_a1.jpg      1\n",
      "2        female_a10.jpg      1\n",
      "3       female_a100.jpg      1\n",
      "4      female_a1000.jpg      1\n",
      "...                 ...    ...\n",
      "15615   female_j995.jpg      1\n",
      "15616   female_j996.jpg      1\n",
      "15617   female_j997.jpg      1\n",
      "15618   female_j998.jpg      1\n",
      "15619   female_j999.jpg      1\n",
      "\n",
      "[15620 rows x 2 columns]\n",
      "        filename  digit\n",
      "0  female_a0.jpg      1\n",
      "1  female_a1.jpg      1\n",
      "=============================\n"
     ]
    }
   ],
   "source": [
    "a_csv = dropColumns(a_csv)\n",
    "b_csv = dropColumns(b_csv)"
   ]
  },
  {
   "cell_type": "code",
   "execution_count": null,
   "metadata": {
    "colab": {
     "base_uri": "https://localhost:8080/"
    },
    "id": "I-uxtItiryp_",
    "outputId": "746da0eb-cba6-4208-da40-2479fff12638"
   },
   "outputs": [
    {
     "name": "stdout",
     "output_type": "stream",
     "text": [
      "30688\n"
     ]
    }
   ],
   "source": [
    "total_csv = [a_csv, b_csv]\n",
    "\n",
    "merged_csv = pd.concat(total_csv)\n",
    "print(len(merged_csv))"
   ]
  },
  {
   "cell_type": "code",
   "execution_count": null,
   "metadata": {
    "id": "8bePUJ3jr37Y"
   },
   "outputs": [],
   "source": [
    "TRAIN_PATH = '/content/gdrive/MyDrive/Ekush/train'\n",
    "#os.mkdir(TRAIN_PATH)"
   ]
  },
  {
   "cell_type": "code",
   "execution_count": null,
   "metadata": {
    "id": "9GjpeCXbsNrj"
   },
   "outputs": [],
   "source": [
    "def processImages(folder_name):\n",
    "  src = PATH + folder_name + '/'\n",
    "  dir_folders = os.listdir(src)\n",
    "  for dir_name in dir_folders:\n",
    "    file_name = os.path.join(src, dir_name)\n",
    "    if os.path.isfile(file_name):\n",
    "      shutil.copy(file_name, TRAIN_PATH)"
   ]
  },
  {
   "cell_type": "code",
   "execution_count": null,
   "metadata": {
    "colab": {
     "base_uri": "https://localhost:8080/"
    },
    "id": "9EAeouaKsQ8N",
    "outputId": "70465ccc-6a6c-45f1-e6da-d044194695b7"
   },
   "outputs": [
    {
     "name": "stdout",
     "output_type": "stream",
     "text": [
      "A Done\n",
      "B Done\n"
     ]
    }
   ],
   "source": [
    "processImages('male_digit')\n",
    "print('A Done')\n",
    "processImages('female_digit')\n",
    "print('B Done')"
   ]
  },
  {
   "cell_type": "code",
   "execution_count": null,
   "metadata": {
    "id": "9225BFIyaPSL"
   },
   "outputs": [],
   "source": [
    "class Dataset(Dataset):\n",
    "    def __init__(self, df, root, transform=None):\n",
    "        self.data = df\n",
    "        self.root = root\n",
    "        self.transform = transform\n",
    "        \n",
    "    def __len__(self):\n",
    "        return len(self.data)\n",
    "    \n",
    "    def __getitem__(self, index):\n",
    "        item = self.data.iloc[index]\n",
    "        \n",
    "        path = self.root + \"/\" + item[0]\n",
    "        image = Image.open(path).convert('L')\n",
    "        label = item[1]\n",
    "        \n",
    "        if self.transform is not None:\n",
    "            image = self.transform(image)\n",
    "            \n",
    "        return image, label"
   ]
  },
  {
   "cell_type": "code",
   "execution_count": null,
   "metadata": {
    "colab": {
     "base_uri": "https://localhost:8080/"
    },
    "id": "tWh9fUo-adaT",
    "outputId": "2f24c158-22b3-4af7-803a-e98e12987b32"
   },
   "outputs": [
    {
     "name": "stdout",
     "output_type": "stream",
     "text": [
      "Trainig Samples:  30688\n"
     ]
    }
   ],
   "source": [
    "mean = [0.5,]\n",
    "std = [0.5, ]\n",
    "\n",
    "train_transform = transforms.Compose([\n",
    "    transforms.Resize(28),\n",
    "    transforms.ToTensor(),\n",
    "    transforms.Normalize(mean, std)\n",
    "])\n",
    "\n",
    "test_transform = transforms.Compose([\n",
    "        transforms.Resize(28),\n",
    "        transforms.ToTensor(),\n",
    "        transforms.Normalize(mean, std)\n",
    "])\n",
    "\n",
    "train_data  = Dataset(merged_csv, TRAIN_PATH, train_transform)\n",
    "test_data = Dataset(merged_csv, TRAIN_PATH, test_transform)\n",
    "\n",
    "print(\"Trainig Samples: \",len(train_data))"
   ]
  },
  {
   "cell_type": "markdown",
   "metadata": {
    "id": "IUf0XvnkXuUD"
   },
   "source": [
    "- **Input dimension:**\n",
    "  - Size of image: $28 \\times 28 = 784$\n",
    "\n",
    "- **Output dimension: 2**\n",
    "  - 0,1"
   ]
  },
  {
   "cell_type": "markdown",
   "metadata": {
    "id": "N5cBDAeLOwUm"
   },
   "source": [
    "###Hyperparameters settings 1"
   ]
  },
  {
   "cell_type": "code",
   "execution_count": null,
   "metadata": {
    "id": "eTHDuoWza4EV"
   },
   "outputs": [],
   "source": [
    "#hyperparameter settings 1\n",
    "batch_size = 200\n",
    "num_iters = 4000\n",
    "input_dim = 28*28 # num_features = 784\n",
    "output_dim = 2\n",
    "\n",
    "learning_rate = 0.0001\n",
    "\n",
    "# Device\n",
    "device = torch.device(\"cuda:0\" if torch.cuda.is_available() else \"cpu\")"
   ]
  },
  {
   "cell_type": "markdown",
   "metadata": {
    "id": "U_nyl-ztOveX"
   },
   "source": [
    "###Hyperparameters settings 2"
   ]
  },
  {
   "cell_type": "code",
   "execution_count": null,
   "metadata": {
    "id": "0QDiqoaPMOlz"
   },
   "outputs": [],
   "source": [
    "#hyperparameter settings 2\n",
    "batch_size = 200\n",
    "num_iters = 4000\n",
    "input_dim = 28*28 # num_features = 784\n",
    "output_dim = 2\n",
    "\n",
    "learning_rate = 0.0003\n",
    "\n",
    "# Device\n",
    "device = torch.device(\"cuda:0\" if torch.cuda.is_available() else \"cpu\")"
   ]
  },
  {
   "cell_type": "markdown",
   "metadata": {
    "id": "U8_vvHfUOzyB"
   },
   "source": [
    "###Hyperparameters settings 3"
   ]
  },
  {
   "cell_type": "code",
   "execution_count": null,
   "metadata": {
    "id": "QgwQ5RNWr9mW"
   },
   "outputs": [],
   "source": [
    "#hyperparameter settings 3\n",
    "batch_size = 300\n",
    "num_iters = 5000\n",
    "input_dim = 28*28 # num_features = 784\n",
    "output_dim = 2\n",
    "\n",
    "learning_rate = 0.0004\n",
    "\n",
    "# Device\n",
    "device = torch.device(\"cuda:0\" if torch.cuda.is_available() else \"cpu\")"
   ]
  },
  {
   "cell_type": "markdown",
   "metadata": {
    "id": "9qajfzJ6O2Rf"
   },
   "source": [
    "###Hyperparameters settings 4"
   ]
  },
  {
   "cell_type": "code",
   "execution_count": null,
   "metadata": {
    "id": "Eo8NWVOQMNLj"
   },
   "outputs": [],
   "source": [
    "#hyperparameter settings 4\n",
    "batch_size = 300\n",
    "num_iters = 4000\n",
    "input_dim = 28*28 # num_features = 784\n",
    "output_dim = 2\n",
    "\n",
    "learning_rate = 0.0002\n",
    "\n",
    "# Device\n",
    "device = torch.device(\"cuda:0\" if torch.cuda.is_available() else \"cpu\")"
   ]
  },
  {
   "cell_type": "markdown",
   "metadata": {
    "id": "ZfE7BBPGPkEc"
   },
   "source": [
    "###Hyperparameters settings 5"
   ]
  },
  {
   "cell_type": "code",
   "execution_count": null,
   "metadata": {
    "id": "OM2im-uX4QGd"
   },
   "outputs": [],
   "source": [
    "#hyperparameter settings 5\n",
    "batch_size = 500\n",
    "num_iters = 2500\n",
    "input_dim = 28*28 # num_features = 784\n",
    "output_dim = 2\n",
    "\n",
    "learning_rate = 0.004\n",
    "\n",
    "# Device\n",
    "device = torch.device(\"cuda:0\" if torch.cuda.is_available() else \"cpu\")\n"
   ]
  },
  {
   "cell_type": "code",
   "execution_count": null,
   "metadata": {
    "colab": {
     "base_uri": "https://localhost:8080/"
    },
    "id": "C6cxVTFjLIN0",
    "outputId": "16ad13ea-9041-4671-8609-ca21fc78a422"
   },
   "outputs": [
    {
     "name": "stdout",
     "output_type": "stream",
     "text": [
      "3068\n",
      "Train dataloader:56\n",
      "Test dataloader:7\n"
     ]
    }
   ],
   "source": [
    "\n",
    "\n",
    "# split data 10% for testing\n",
    "test_size = 0.1\n",
    "\n",
    "# obtain training indices that will be used for validation\n",
    "num_train = len(train_data)\n",
    "\n",
    "# mix data\n",
    "# index of num of train\n",
    "indices = list(range(num_train))\n",
    "# random the index\n",
    "np.random.shuffle(indices)\n",
    "split = int(np.floor(test_size * num_train))\n",
    "print(split)\n",
    "# divied into two part\n",
    "train_idx, test_idx = indices[split:], indices[:split]\n",
    "\n",
    "# define the sampler\n",
    "train_sampler = SubsetRandomSampler(train_idx)\n",
    "test_sampler = SubsetRandomSampler(test_idx)\n",
    "\n",
    "# prepare loaders\n",
    "train_loader = torch.utils.data.DataLoader(\n",
    "    train_data, batch_size=batch_size,\n",
    "    sampler=train_sampler)\n",
    "\n",
    "test_loader = torch.utils.data.DataLoader(\n",
    "    test_data, batch_size=batch_size,\n",
    "    sampler=test_sampler)\n",
    "\n",
    "print(\"Train dataloader:{}\".format(len(train_loader)))\n",
    "print(\"Test dataloader:{}\".format(len(test_loader)))"
   ]
  },
  {
   "cell_type": "markdown",
   "metadata": {
    "id": "CP3LEjnx2OdX"
   },
   "source": [
    "#Total Training samples is 30688\n",
    "- 90,10 split ratio\n",
    "- Train set=27620\n",
    "- Test  set=3068\n"
   ]
  },
  {
   "cell_type": "code",
   "execution_count": null,
   "metadata": {
    "id": "Ao37EKf1a_wW"
   },
   "outputs": [],
   "source": [
    "num_epochs = num_iters / (len(train_data) / batch_size)\n",
    "num_epochs = int(num_epochs)"
   ]
  },
  {
   "cell_type": "code",
   "execution_count": null,
   "metadata": {
    "colab": {
     "base_uri": "https://localhost:8080/"
    },
    "id": "4QbrlTwubGEP",
    "outputId": "e3cba5d9-b414-438f-f16f-38a6bb431afe"
   },
   "outputs": [
    {
     "name": "stdout",
     "output_type": "stream",
     "text": [
      "40\n"
     ]
    }
   ],
   "source": [
    "print(num_epochs)"
   ]
  },
  {
   "cell_type": "code",
   "execution_count": null,
   "metadata": {
    "colab": {
     "base_uri": "https://localhost:8080/",
     "height": 283
    },
    "id": "UvGalzkubZfR",
    "outputId": "26a9629f-84c3-4ee0-a844-f35d164f59d6"
   },
   "outputs": [
    {
     "data": {
      "text/plain": [
       "<matplotlib.image.AxesImage at 0x7f8eb064e198>"
      ]
     },
     "execution_count": 33,
     "metadata": {
      "tags": []
     },
     "output_type": "execute_result"
    },
    {
     "data": {
      "image/png": "[encoded data removed]",
      "text/plain": [
       "<Figure size 432x288 with 1 Axes>"
      ]
     },
     "metadata": {
      "needs_background": "light",
      "tags": []
     },
     "output_type": "display_data"
    }
   ],
   "source": [
    "## Displaying a Ekush Image\n",
    "\n",
    "import matplotlib.pyplot as plt \n",
    "import numpy as np\n",
    "\n",
    "show_img = train_data[0][0].numpy().reshape(28, 28)\n",
    "plt.imshow(show_img, cmap=matplotlib.cm.binary)"
   ]
  },
  {
   "cell_type": "code",
   "execution_count": null,
   "metadata": {
    "colab": {
     "base_uri": "https://localhost:8080/"
    },
    "id": "S_L8rxm-bzHN",
    "outputId": "5fba5671-2e71-4afa-bc6b-affe5b7806ac"
   },
   "outputs": [
    {
     "name": "stdout",
     "output_type": "stream",
     "text": [
      "torch.Size([1, 28, 28])\n",
      "(1, 28, 28)\n",
      "0\n"
     ]
    }
   ],
   "source": [
    "# One Image Size\n",
    "print(train_data[0][0].size())\n",
    "print(train_data[0][0].numpy().shape)\n",
    "# First Image Label\n",
    "print(train_data[59][1])"
   ]
  },
  {
   "cell_type": "code",
   "execution_count": null,
   "metadata": {
    "id": "-pJpXsxjb51W"
   },
   "outputs": [],
   "source": [
    "class LogisticRegressionModel(nn.Module):\n",
    "    def __init__(self, input_size, num_classes):\n",
    "        super().__init__()\n",
    "        self.linear = nn.Linear(input_size, num_classes)\n",
    "\n",
    "    def forward(self, x):\n",
    "        logits  = self.linear(x)\n",
    "        probas = torch.sigmoid(logits)\n",
    "        return logits, probas\n",
    "        "
   ]
  },
  {
   "cell_type": "code",
   "execution_count": null,
   "metadata": {
    "colab": {
     "base_uri": "https://localhost:8080/"
    },
    "id": "kv5eyuqIb_9Q",
    "outputId": "7c6d050e-587c-4b14-d1bf-82a2493781bc"
   },
   "outputs": [
    {
     "data": {
      "text/plain": [
       "LogisticRegressionModel(\n",
       "  (linear): Linear(in_features=784, out_features=2, bias=True)\n",
       ")"
      ]
     },
     "execution_count": 40,
     "metadata": {
      "tags": []
     },
     "output_type": "execute_result"
    }
   ],
   "source": [
    "'''\n",
    "INSTANTIATE MODEL CLASS\n",
    "'''\n",
    "model = LogisticRegressionModel(input_size=input_dim,\n",
    "                                num_classes=output_dim)\n",
    "\n",
    "# To enable GPU\n",
    "model.to(device)"
   ]
  },
  {
   "cell_type": "code",
   "execution_count": null,
   "metadata": {
    "id": "WTH8yWoiMmiA"
   },
   "outputs": [],
   "source": [
    "# INSTANTIATE OPTIMIZER CLASS\n",
    "optimizer = torch.optim.SGD(model.parameters(), lr=learning_rate)"
   ]
  },
  {
   "cell_type": "code",
   "execution_count": null,
   "metadata": {
    "id": "CA-nzLv2cDQP"
   },
   "outputs": [],
   "source": [
    "# INSTANTIATE OPTIMIZER CLASS\n",
    "\n",
    "optimizer = torch.optim.Adam(model.parameters(), lr=learning_rate)\n"
   ]
  },
  {
   "cell_type": "code",
   "execution_count": null,
   "metadata": {
    "colab": {
     "base_uri": "https://localhost:8080/"
    },
    "id": "mWuJtu1LcQi4",
    "outputId": "bf1ee636-bef2-4ca3-f6db-1b4205a7acb0"
   },
   "outputs": [
    {
     "name": "stdout",
     "output_type": "stream",
     "text": [
      "Iteration: 500. Loss: 0.6965370178222656. Accuracy: 52.86831812255541\n",
      "Iteration: 1000. Loss: 0.6841707825660706. Accuracy: 54.85658409387223\n",
      "Iteration: 1500. Loss: 0.7233657836914062. Accuracy: 54.72620599739244\n",
      "Iteration: 2000. Loss: 0.6804596781730652. Accuracy: 55.80182529335072\n",
      "Iteration: 2500. Loss: 0.6924183368682861. Accuracy: 56.29074315514993\n",
      "Iteration: 3000. Loss: 0.6711245775222778. Accuracy: 56.22555410691004\n",
      "Iteration: 3500. Loss: 0.6983843445777893. Accuracy: 56.22555410691004\n"
     ]
    }
   ],
   "source": [
    "#Settings1\n",
    "'''\n",
    "TRAIN THE MODEL\n",
    "'''\n",
    "iteration_loss = []\n",
    "iter = 0\n",
    "for epoch in range(num_epochs):\n",
    "    for i, (images, labels) in enumerate(train_loader):\n",
    "\n",
    "        images = images.view(-1, 28*28).to(device)\n",
    "        labels = labels.to(device)\n",
    "\n",
    "        # Clear gradients w.r.t. parameters\n",
    "        optimizer.zero_grad()\n",
    "\n",
    "        # Forward pass to get output/logits\n",
    "        logits, probas = model(images) \n",
    "\n",
    "        # Calculate Loss: PyTorch implementation of CrossEntropyLoss works with logits, not probabilities\n",
    "        loss = F.cross_entropy(logits, labels)\n",
    "\n",
    "        # Getting gradients w.r.t. parameters\n",
    "        loss.backward()\n",
    "\n",
    "        # Updating parameters\n",
    "        optimizer.step()\n",
    "\n",
    "        iter += 1\n",
    "\n",
    "        if iter % 500 == 0:\n",
    "            # Calculate Accuracy         \n",
    "            correct = 0\n",
    "            total = 0\n",
    "            # Iterate through test dataset\n",
    "            for images, labels in test_loader:\n",
    "               \n",
    "                images = images.view(-1, 28*28).to(device)\n",
    "\n",
    "                # Forward pass only to get logits/output\n",
    "                logits, probas = model(images)\n",
    "\n",
    "                # Get predictions from the maximum value\n",
    "                _, predicted = torch.max(probas, 1)\n",
    "\n",
    "                # Total number of labels\n",
    "                total += labels.size(0)\n",
    "\n",
    "\n",
    "                # Total correct predictions\n",
    "                if torch.cuda.is_available():\n",
    "                    correct += (predicted.cpu() == labels.cpu()).sum() \n",
    "                else:\n",
    "                    correct += (predicted == labels).sum()\n",
    "\n",
    "            accuracy = 100 * correct.item() / total\n",
    "\n",
    "            # Print Loss\n",
    "            iteration_loss.append(loss.item())\n",
    "            print('Iteration: {}. Loss: {}. Accuracy: {}'.format(iter, loss.item(), accuracy))"
   ]
  },
  {
   "cell_type": "code",
   "execution_count": null,
   "metadata": {
    "colab": {
     "base_uri": "https://localhost:8080/"
    },
    "id": "gyJ3iPZdMyYn",
    "outputId": "50770df7-4866-435b-b8eb-9bac55d187a5"
   },
   "outputs": [
    {
     "name": "stdout",
     "output_type": "stream",
     "text": [
      "Iteration: 500. Loss: 0.6645141839981079. Accuracy: 57.39895697522816\n",
      "Iteration: 1000. Loss: 0.6620786190032959. Accuracy: 56.551499348109516\n",
      "Iteration: 1500. Loss: 0.6536939144134521. Accuracy: 58.21382007822686\n",
      "Iteration: 2000. Loss: 0.6486493945121765. Accuracy: 58.53976531942634\n",
      "Iteration: 2500. Loss: 0.6568686962127686. Accuracy: 58.2464146023468\n",
      "Iteration: 3000. Loss: 0.6774804592132568. Accuracy: 58.083441981747065\n",
      "Iteration: 3500. Loss: 0.6288185715675354. Accuracy: 57.82268578878748\n"
     ]
    }
   ],
   "source": [
    "#Settings2\n",
    "'''\n",
    "TRAIN THE MODEL\n",
    "'''\n",
    "iteration_loss = []\n",
    "iter = 0\n",
    "for epoch in range(num_epochs):\n",
    "    for i, (images, labels) in enumerate(train_loader):\n",
    "\n",
    "        images = images.view(-1, 28*28).to(device)\n",
    "        labels = labels.to(device)\n",
    "\n",
    "        # Clear gradients w.r.t. parameters\n",
    "        optimizer.zero_grad()\n",
    "\n",
    "        # Forward pass to get output/logits\n",
    "        logits, probas = model(images) \n",
    "\n",
    "        # Calculate Loss: PyTorch implementation of CrossEntropyLoss works with logits, not probabilities\n",
    "        loss = F.cross_entropy(logits, labels)\n",
    "\n",
    "        # Getting gradients w.r.t. parameters\n",
    "        loss.backward()\n",
    "\n",
    "        # Updating parameters\n",
    "        optimizer.step()\n",
    "\n",
    "        iter += 1\n",
    "\n",
    "        if iter % 500 == 0:\n",
    "            # Calculate Accuracy         \n",
    "            correct = 0\n",
    "            total = 0\n",
    "            # Iterate through test dataset\n",
    "            for images, labels in test_loader:\n",
    "               \n",
    "                images = images.view(-1, 28*28).to(device)\n",
    "\n",
    "                # Forward pass only to get logits/output\n",
    "                logits, probas = model(images)\n",
    "\n",
    "                # Get predictions from the maximum value\n",
    "                _, predicted = torch.max(probas, 1)\n",
    "\n",
    "                # Total number of labels\n",
    "                total += labels.size(0)\n",
    "\n",
    "\n",
    "                # Total correct predictions\n",
    "                if torch.cuda.is_available():\n",
    "                    correct += (predicted.cpu() == labels.cpu()).sum() \n",
    "                else:\n",
    "                    correct += (predicted == labels).sum()\n",
    "\n",
    "            accuracy = 100 * correct.item() / total\n",
    "\n",
    "            # Print Loss\n",
    "            iteration_loss.append(loss.item())\n",
    "            print('Iteration: {}. Loss: {}. Accuracy: {}'.format(iter, loss.item(), accuracy))"
   ]
  },
  {
   "cell_type": "code",
   "execution_count": null,
   "metadata": {
    "colab": {
     "base_uri": "https://localhost:8080/"
    },
    "id": "TkEulQDbrnMi",
    "outputId": "f2205327-5fc3-4f37-b715-c5766c1ae2af"
   },
   "outputs": [
    {
     "name": "stdout",
     "output_type": "stream",
     "text": [
      "Iteration: 500. Loss: 0.6851708292961121. Accuracy: 58.57235984354629\n",
      "Iteration: 1000. Loss: 0.6784543395042419. Accuracy: 58.44198174706649\n",
      "Iteration: 1500. Loss: 0.6645649671554565. Accuracy: 58.865710560625814\n",
      "Iteration: 2000. Loss: 0.6545795202255249. Accuracy: 58.865710560625814\n",
      "Iteration: 2500. Loss: 0.6921948790550232. Accuracy: 59.32203389830509\n",
      "Iteration: 3000. Loss: 0.6461582779884338. Accuracy: 58.80052151238592\n",
      "Iteration: 3500. Loss: 0.651991605758667. Accuracy: 58.865710560625814\n",
      "Iteration: 4000. Loss: 0.6508583426475525. Accuracy: 58.63754889178618\n"
     ]
    }
   ],
   "source": [
    "#Settings3\n",
    "'''\n",
    "TRAIN THE MODEL\n",
    "'''\n",
    "iteration_loss = []\n",
    "iter = 0\n",
    "for epoch in range(num_epochs):\n",
    "    for i, (images, labels) in enumerate(train_loader):\n",
    "\n",
    "        images = images.view(-1, 28*28).to(device)\n",
    "        labels = labels.to(device)\n",
    "\n",
    "        # Clear gradients w.r.t. parameters\n",
    "        optimizer.zero_grad()\n",
    "\n",
    "        # Forward pass to get output/logits\n",
    "        logits, probas = model(images) \n",
    "\n",
    "        # Calculate Loss: PyTorch implementation of CrossEntropyLoss works with logits, not probabilities\n",
    "        loss = F.cross_entropy(logits, labels)\n",
    "\n",
    "        # Getting gradients w.r.t. parameters\n",
    "        loss.backward()\n",
    "\n",
    "        # Updating parameters\n",
    "        optimizer.step()\n",
    "\n",
    "        iter += 1\n",
    "\n",
    "        if iter % 500 == 0:\n",
    "            # Calculate Accuracy         \n",
    "            correct = 0\n",
    "            total = 0\n",
    "            # Iterate through test dataset\n",
    "            for images, labels in test_loader:\n",
    "               \n",
    "                images = images.view(-1, 28*28).to(device)\n",
    "\n",
    "                # Forward pass only to get logits/output\n",
    "                logits, probas = model(images)\n",
    "\n",
    "                # Get predictions from the maximum value\n",
    "                _, predicted = torch.max(probas, 1)\n",
    "\n",
    "                # Total number of labels\n",
    "                total += labels.size(0)\n",
    "\n",
    "\n",
    "                # Total correct predictions\n",
    "                if torch.cuda.is_available():\n",
    "                    correct += (predicted.cpu() == labels.cpu()).sum() \n",
    "                else:\n",
    "                    correct += (predicted == labels).sum()\n",
    "\n",
    "            accuracy = 100 * correct.item() / total\n",
    "\n",
    "            # Print Loss\n",
    "            iteration_loss.append(loss.item())\n",
    "            print('Iteration: {}. Loss: {}. Accuracy: {}'.format(iter, loss.item(), accuracy))"
   ]
  },
  {
   "cell_type": "code",
   "execution_count": null,
   "metadata": {
    "colab": {
     "base_uri": "https://localhost:8080/"
    },
    "id": "PjY2iCGEMwfv",
    "outputId": "c530c591-e8db-4881-c30f-d3a5f7c3ecef"
   },
   "outputs": [
    {
     "name": "stdout",
     "output_type": "stream",
     "text": [
      "Iteration: 500. Loss: 0.6692367196083069. Accuracy: 58.702737940026076\n",
      "Iteration: 1000. Loss: 0.6840881109237671. Accuracy: 58.833116036505864\n",
      "Iteration: 1500. Loss: 0.6671575903892517. Accuracy: 59.55019556714472\n",
      "Iteration: 2000. Loss: 0.6651075482368469. Accuracy: 59.452411994784875\n",
      "Iteration: 2500. Loss: 0.638191282749176. Accuracy: 59.90873533246415\n",
      "Iteration: 3000. Loss: 0.6619880199432373. Accuracy: 59.38722294654498\n",
      "Iteration: 3500. Loss: 0.654695987701416. Accuracy: 59.61538461538461\n"
     ]
    }
   ],
   "source": [
    "#Settings4\n",
    "'''\n",
    "TRAIN THE MODEL\n",
    "'''\n",
    "iteration_loss = []\n",
    "iter = 0\n",
    "for epoch in range(num_epochs):\n",
    "    for i, (images, labels) in enumerate(train_loader):\n",
    "\n",
    "        images = images.view(-1, 28*28).to(device)\n",
    "        labels = labels.to(device)\n",
    "\n",
    "        # Clear gradients w.r.t. parameters\n",
    "        optimizer.zero_grad()\n",
    "\n",
    "        # Forward pass to get output/logits\n",
    "        logits, probas = model(images) \n",
    "\n",
    "        # Calculate Loss: PyTorch implementation of CrossEntropyLoss works with logits, not probabilities\n",
    "        loss = F.cross_entropy(logits, labels)\n",
    "\n",
    "        # Getting gradients w.r.t. parameters\n",
    "        loss.backward()\n",
    "\n",
    "        # Updating parameters\n",
    "        optimizer.step()\n",
    "\n",
    "        iter += 1\n",
    "\n",
    "        if iter % 500 == 0:\n",
    "            # Calculate Accuracy         \n",
    "            correct = 0\n",
    "            total = 0\n",
    "            # Iterate through test dataset\n",
    "            for images, labels in test_loader:\n",
    "               \n",
    "                images = images.view(-1, 28*28).to(device)\n",
    "\n",
    "                # Forward pass only to get logits/output\n",
    "                logits, probas = model(images)\n",
    "\n",
    "                # Get predictions from the maximum value\n",
    "                _, predicted = torch.max(probas, 1)\n",
    "\n",
    "                # Total number of labels\n",
    "                total += labels.size(0)\n",
    "\n",
    "\n",
    "                # Total correct predictions\n",
    "                if torch.cuda.is_available():\n",
    "                    correct += (predicted.cpu() == labels.cpu()).sum() \n",
    "                else:\n",
    "                    correct += (predicted == labels).sum()\n",
    "\n",
    "            accuracy = 100 * correct.item() / total\n",
    "\n",
    "            # Print Loss\n",
    "            iteration_loss.append(loss.item())\n",
    "            print('Iteration: {}. Loss: {}. Accuracy: {}'.format(iter, loss.item(), accuracy))"
   ]
  },
  {
   "cell_type": "code",
   "execution_count": null,
   "metadata": {
    "colab": {
     "base_uri": "https://localhost:8080/"
    },
    "id": "M5_6vhJtj03V",
    "outputId": "f41b1590-2f57-4b76-fffd-92694bbf2cd5"
   },
   "outputs": [
    {
     "name": "stdout",
     "output_type": "stream",
     "text": [
      "Iteration: 500. Loss: 0.6868993639945984. Accuracy: 56.29074315514993\n",
      "Iteration: 1000. Loss: 0.7138556241989136. Accuracy: 60.00651890482399\n",
      "Iteration: 1500. Loss: 0.6897763609886169. Accuracy: 59.71316818774446\n",
      "Iteration: 2000. Loss: 0.6814044117927551. Accuracy: 60.071707953063886\n"
     ]
    }
   ],
   "source": [
    "#Settings5\n",
    "'''\n",
    "TRAIN THE MODEL\n",
    "'''\n",
    "iteration_loss = []\n",
    "iter = 0\n",
    "for epoch in range(num_epochs):\n",
    "    for i, (images, labels) in enumerate(train_loader):\n",
    "\n",
    "        images = images.view(-1, 28*28).to(device)\n",
    "        labels = labels.to(device)\n",
    "\n",
    "        # Clear gradients w.r.t. parameters\n",
    "        optimizer.zero_grad()\n",
    "\n",
    "        # Forward pass to get output/logits\n",
    "        logits, probas = model(images) \n",
    "\n",
    "        # Calculate Loss: PyTorch implementation of CrossEntropyLoss works with logits, not probabilities\n",
    "        loss = F.cross_entropy(logits, labels)\n",
    "\n",
    "        # Getting gradients w.r.t. parameters\n",
    "        loss.backward()\n",
    "\n",
    "        # Updating parameters\n",
    "        optimizer.step()\n",
    "\n",
    "        iter += 1\n",
    "\n",
    "        if iter % 500 == 0:\n",
    "            # Calculate Accuracy         \n",
    "            correct = 0\n",
    "            total = 0\n",
    "            # Iterate through test dataset\n",
    "            for images, labels in test_loader:\n",
    "               \n",
    "                images = images.view(-1, 28*28).to(device)\n",
    "\n",
    "                # Forward pass only to get logits/output\n",
    "                logits, probas = model(images)\n",
    "\n",
    "                # Get predictions from the maximum value\n",
    "                _, predicted = torch.max(probas, 1)\n",
    "\n",
    "                # Total number of labels\n",
    "                total += labels.size(0)\n",
    "\n",
    "\n",
    "                # Total correct predictions\n",
    "                if torch.cuda.is_available():\n",
    "                    correct += (predicted.cpu() == labels.cpu()).sum() \n",
    "                else:\n",
    "                    correct += (predicted == labels).sum()\n",
    "\n",
    "            accuracy = 100 * correct.item() / total\n",
    "\n",
    "            # Print Loss\n",
    "            iteration_loss.append(loss.item())\n",
    "            print('Iteration: {}. Loss: {}. Accuracy: {}'.format(iter, loss.item(), accuracy))"
   ]
  },
  {
   "cell_type": "code",
   "execution_count": null,
   "metadata": {
    "colab": {
     "base_uri": "https://localhost:8080/",
     "height": 298
    },
    "id": "5_jyyKnecuus",
    "outputId": "35d128da-fc43-4c2f-e322-f5a1ed969971"
   },
   "outputs": [
    {
     "name": "stdout",
     "output_type": "stream",
     "text": [
      "[0.6868993639945984, 0.7138556241989136, 0.6897763609886169, 0.6814044117927551]\n"
     ]
    },
    {
     "data": {
      "image/png": "[encoded data removed]",
      "text/plain": [
       "<Figure size 432x288 with 1 Axes>"
      ]
     },
     "metadata": {
      "needs_background": "light",
      "tags": []
     },
     "output_type": "display_data"
    }
   ],
   "source": [
    "import matplotlib\n",
    "import matplotlib.pyplot as plt\n",
    "\n",
    "print (iteration_loss)\n",
    "plt.plot(iteration_loss)\n",
    "plt.ylabel('Cross Entropy Loss')\n",
    "plt.xlabel('Iteration (in every 500)')\n",
    "plt.show()"
   ]
  },
  {
   "cell_type": "code",
   "execution_count": null,
   "metadata": {
    "id": "gTj855gicxW0"
   },
   "outputs": [],
   "source": [
    "#settings 1\n",
    "save_model = True\n",
    "\n",
    "if save_model is True:\n",
    "    # Saves only parameters\n",
    "    # wights & biases\n",
    "    torch.save(model.state_dict(), PATH + 'Ekush_logistic.pkl') "
   ]
  },
  {
   "cell_type": "code",
   "execution_count": null,
   "metadata": {
    "id": "BwlnenmCEHu7"
   },
   "outputs": [],
   "source": [
    "#settings 2\n",
    "save_model = True\n",
    "\n",
    "if save_model is True:\n",
    "    # Saves only parameters\n",
    "    # wights & biases\n",
    "    torch.save(model.state_dict(), PATH + 'Ekush_logistic2.pkl') "
   ]
  },
  {
   "cell_type": "code",
   "execution_count": null,
   "metadata": {
    "id": "Wnaz7fhbNBdR"
   },
   "outputs": [],
   "source": [
    "#settings 3\n",
    "save_model = True\n",
    "\n",
    "if save_model is True:\n",
    "    # Saves only parameters\n",
    "    # wights & biases\n",
    "    torch.save(model.state_dict(), PATH + 'Ekush_logistic3.pkl') "
   ]
  },
  {
   "cell_type": "code",
   "execution_count": null,
   "metadata": {
    "id": "uY8NrJqJNCUq"
   },
   "outputs": [],
   "source": [
    "#settings 4\n",
    "save_model = True\n",
    "\n",
    "if save_model is True:\n",
    "    # Saves only parameters\n",
    "    # wights & biases\n",
    "    torch.save(model.state_dict(), PATH + 'Ekush_logistic4.pkl') "
   ]
  },
  {
   "cell_type": "code",
   "execution_count": null,
   "metadata": {
    "id": "MNzmAIhY7BFm"
   },
   "outputs": [],
   "source": [
    "#settings 5\n",
    "save_model = True\n",
    "\n",
    "if save_model is True:\n",
    "    # Saves only parameters\n",
    "    # wights & biases\n",
    "    torch.save(model.state_dict(), PATH + 'Ekush_logistic5.pkl') "
   ]
  },
  {
   "cell_type": "code",
   "execution_count": null,
   "metadata": {
    "colab": {
     "base_uri": "https://localhost:8080/"
    },
    "id": "MRMA8Djnc678",
    "outputId": "7e17f75b-a14e-4dbe-ca00-48e543051cde"
   },
   "outputs": [
    {
     "name": "stdout",
     "output_type": "stream",
     "text": [
      "Trained Model Loaded\n"
     ]
    }
   ],
   "source": [
    "#settings 1\n",
    "load_model = True\n",
    "\n",
    "if load_model is True:\n",
    "    model.load_state_dict(torch.load(PATH + 'Ekush_logistic.pkl'))\n",
    "    print('Trained Model Loaded')"
   ]
  },
  {
   "cell_type": "code",
   "execution_count": null,
   "metadata": {
    "colab": {
     "base_uri": "https://localhost:8080/"
    },
    "id": "d19dhYUNELwJ",
    "outputId": "a920389a-687e-4c74-f932-d3761eeed79a"
   },
   "outputs": [
    {
     "name": "stdout",
     "output_type": "stream",
     "text": [
      "Trained Model Loaded\n"
     ]
    }
   ],
   "source": [
    "#settings 2\n",
    "load_model = True\n",
    "\n",
    "if load_model is True:\n",
    "    model.load_state_dict(torch.load(PATH + 'Ekush_logistic2.pkl'))\n",
    "    print('Trained Model Loaded')"
   ]
  },
  {
   "cell_type": "code",
   "execution_count": null,
   "metadata": {
    "id": "54cDxN6XNFXK"
   },
   "outputs": [],
   "source": [
    "#settings 3\n",
    "load_model = True\n",
    "\n",
    "if load_model is True:\n",
    "    model.load_state_dict(torch.load(PATH + 'Ekush_logistic3.pkl'))\n",
    "    print('Trained Model Loaded')"
   ]
  },
  {
   "cell_type": "code",
   "execution_count": null,
   "metadata": {
    "id": "1GRHxPmMNHVc"
   },
   "outputs": [],
   "source": [
    "#settings 4\n",
    "load_model = True\n",
    "\n",
    "if load_model is True:\n",
    "    model.load_state_dict(torch.load(PATH + 'Ekush_logistic4.pkl'))\n",
    "    print('Trained Model Loaded')"
   ]
  },
  {
   "cell_type": "code",
   "execution_count": null,
   "metadata": {
    "colab": {
     "base_uri": "https://localhost:8080/",
     "height": 146
    },
    "id": "KOHnlkbqdDIo",
    "outputId": "47e4d7b4-21cf-49df-af2a-37d754855fb3"
   },
   "outputs": [
    {
     "name": "stdout",
     "output_type": "stream",
     "text": [
      "\t\t\tlabel\n",
      "\t 1    \t 1    \t 0    \t 0    \t 0    "
     ]
    },
    {
     "data": {
      "image/png": "[encoded data removed]",
      "text/plain": [
       "<Figure size 432x288 with 5 Axes>"
      ]
     },
     "metadata": {
      "needs_background": "light",
      "tags": []
     },
     "output_type": "display_data"
    }
   ],
   "source": [
    "for images, labels in test_loader:\n",
    "   break\n",
    "    \n",
    "fig, ax = plt.subplots(1,5)\n",
    "for i in range(5):\n",
    "    ax[i].imshow(images[i].view(28, 28), cmap=matplotlib.cm.binary)\n",
    "print('\\t\\t\\t'+'label')   \n",
    "for i in range(5):\n",
    "  print('\\t',labels [i].numpy(),'   ',end = '')\n",
    "plt.show()"
   ]
  },
  {
   "cell_type": "code",
   "execution_count": null,
   "metadata": {
    "colab": {
     "base_uri": "https://localhost:8080/"
    },
    "id": "AbPz5sz9dTdv",
    "outputId": "1a0d71f8-bfd8-4b68-a7b5-c8291129f491"
   },
   "outputs": [
    {
     "name": "stdout",
     "output_type": "stream",
     "text": [
      "Predicted labels [1 1 0 1 1]\n"
     ]
    }
   ],
   "source": [
    "_, predictions = model.forward(images[:5].view(-1, 28*28).to(device))\n",
    "predictions = torch.argmax(predictions, dim=1)\n",
    "print('Predicted labels', predictions.cpu().numpy())"
   ]
  },
  {
   "cell_type": "markdown",
   "metadata": {
    "id": "57HlDghQeQqm"
   },
   "source": [
    "###Loss plots for hyperparameter settings 1 and 2:\n",
    "<div align=\"center\">\n",
    "<img src=\"https://drive.google.com/uc?id=1eakS_wWxnyFZGFx5Y6NI5iXeeB-EgdXc\" width=\"360\">\n",
    "<img src=\"https://drive.google.com/uc?id=1XdQ2B479bI13HHT9srPXDgQUFw2-1_wu\" width=\"350\">\n",
    "</div>\n",
    "Loss plots for hyperparameter settings 3 and 4:\n",
    "<div align=\"center\">\n",
    "<img src=\"https://drive.google.com/uc?id=1utwKKHiWM-zvnTzWOXvl61Ri8YymPIJF\" width=\"340\">\n",
    "<img src=\"https://drive.google.com/uc?id=1zWKpGJHoaqLFtEwPW4DR8NrGcD78Vjty\" width=\"330\">\n",
    "</div>\n",
    "Loss plot for hyperparameter settings 5\n",
    "<div align=\"center\">\n",
    "<img src=\"https://drive.google.com/uc?id=1tQE0Oe2yvuWMjjqahLOZz3Q_sSAU92f4\" width=\"340\">\n",
    "\n",
    "</div>"
   ]
  },
  {
   "cell_type": "markdown",
   "metadata": {
    "id": "GIc__6KmkFMJ"
   },
   "source": [
    "**Result table:-**\n",
    "\n",
    "| Settings| Batch Size    | Iteration     | Learning Rate |  Optimzer           |  Accuracy(%)|\n",
    "|:--------:| :----------: | :-----------: | : -----------:|:-----:      |:-----------:|\n",
    "| 1        | 200          | 4000          | 0.0001        |  SGD    |  56.225     |\n",
    "| 2        | 200          | 4000          | 0.0003        |  ADAM    |  57.822     |\n",
    "| 3        | 300          | 5000          | 0.0004        |  ADAM   |  58.637     |\n",
    "| 4        | 300          | 4000          | 0.0002        |  ADAM   |  59.615     |\n",
    "| 5        | 500          | 2500          | 0.004         |  ADAM    |  60.071     |\n",
    "\n",
    "###Hyperparameters settings 1\n",
    "For setting 1 a smaller batch size was taken of 200 and lr was set to 0.0001,the number of epochs were 26.The accuracy was 56.225%\n",
    "###Hyperparameters settings 2\n",
    "Now For setting 2 keeping the batch size same the lr was changed to 0.0003 so the model will learn slower than setting 1 .The number of epochs were same as setting 1 which is 26.The accuracy was 57.822% which is a little improvement.\n",
    "###Hyperparameters settings 3\n",
    "In case of setting 3 the batch size was changed to 300 and iteration was 5000 instead of 4000.The lr was reduced even further to 0.0004.The number of epochs were 48.This time the accuracy improved to 58.637%.\n",
    "###Hyperparameters settings 4\n",
    "In case of setting 4 the batch size was same as setting 3 but the iteration was reduced to 4000 and the lr was set to 0.0002 to make the model learn little faster.Number of epochs were  39 .The accuray was 59.165%\n",
    "###Hyperparameters settings 5\n",
    "The batch size was increased to 500 as from previous settings it can be seen that with increasing batch size the accuracy improves.The number of epochs were 40.And the accuracy was 60.071%\n",
    "\n",
    "\n"
   ]
  },
  {
   "cell_type": "markdown",
   "metadata": {
    "id": "PVUv9FpKbF4q"
   },
   "source": [
    "**Best Model**\n",
    "\n",
    "- Model Name: **Ekush_logistic5.pkl**\n",
    "\n",
    "- Batch Size: **500**\n",
    "- Iteration: **2500**\n",
    "\n",
    "- Learning Rate: **0.004**\n",
    "- Epochs:**40**\n",
    "- Accuracy: **60.071**\n"
   ]
  },
  {
   "cell_type": "markdown",
   "metadata": {
    "id": "CzE4vCXRUYPR"
   },
   "source": [
    "###Prediction\n",
    "\n",
    "When trying to predict the the label most of the time model is able to correctly predict **3** out of **5** lables."
   ]
  }
 ],
 "metadata": {
  "accelerator": "GPU",
  "colab": {
   "name": "SoftComputingAssignment2.ipynb",
   "provenance": []
  },
  "kernelspec": {
   "display_name": "Python 3",
   "language": "python",
   "name": "python3"
  },
  "language_info": {
   "codemirror_mode": {
    "name": "ipython",
    "version": 3
   },
   "file_extension": ".py",
   "mimetype": "text/x-python",
   "name": "python",
   "nbconvert_exporter": "python",
   "pygments_lexer": "ipython3",
   "version": "3.8.5"
  }
 },
 "nbformat": 4,
 "nbformat_minor": 1
}
